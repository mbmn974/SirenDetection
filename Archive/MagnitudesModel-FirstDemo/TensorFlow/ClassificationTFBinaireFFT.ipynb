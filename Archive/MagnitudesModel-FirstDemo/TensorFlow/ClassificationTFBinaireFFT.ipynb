{
 "cells": [
  {
   "cell_type": "code",
   "execution_count": 277,
   "id": "ca7d4e24",
   "metadata": {
    "scrolled": true
   },
   "outputs": [],
   "source": [
    "#Audio Processing Libraries\n",
    "import librosa\n",
    "\n",
    "#Array Processing\n",
    "import numpy as np\n",
    "\n",
    "#Data Visualization\n",
    "import matplotlib.pyplot as plt\n",
    "import seaborn as sns\n",
    "\n",
    "#Display the confusion matrix\n",
    "from sklearn.metrics import confusion_matrix\n",
    "\n",
    "#Deal with .pkl files\n",
    "import pickle\n",
    "\n",
    "#Create a dataframe\n",
    "import pandas as pd\n",
    "\n",
    "#Transform and encode the categorical targets\n",
    "import torch\n",
    "import torch.nn as nn\n",
    "import torch.optim as optim\n",
    "import torch.nn.functional as F\n",
    "from sklearn.preprocessing import LabelEncoder\n",
    "\n",
    "from sklearn.preprocessing import StandardScaler\n",
    "\n",
    "#Split dataset\n",
    "from sklearn.model_selection import train_test_split\n",
    "\n",
    "#Export the model\n",
    "import torch.onnx\n",
    "\n",
    "import os\n",
    "\n",
    "# import onnx\n",
    "\n",
    "from numpy.fft import fft\n",
    "import numpy  as np\n",
    "import matplotlib.pyplot as plt\n",
    "\n",
    "import math"
   ]
  },
  {
   "cell_type": "markdown",
   "id": "97440e25",
   "metadata": {},
   "source": [
    "# Préparation des données et fonctions"
   ]
  },
  {
   "cell_type": "code",
   "execution_count": 2,
   "id": "5c853634",
   "metadata": {},
   "outputs": [],
   "source": [
    "minimum_sr = 16000 #fréquence de récupération des fichiers audio"
   ]
  },
  {
   "cell_type": "markdown",
   "id": "29d6c242",
   "metadata": {},
   "source": [
    "###### Fonctions de récupération de features"
   ]
  },
  {
   "cell_type": "code",
   "execution_count": 2,
   "id": "40aac7d4",
   "metadata": {},
   "outputs": [],
   "source": [
    "def magnitude(audio,window):\n",
    "    samples = len(audio)\n",
    "    power = 0\n",
    "\n",
    "    while(2**power <= samples):\n",
    "        power += 1\n",
    "\n",
    "    power -= 1\n",
    "    samples = 2**power\n",
    "\n",
    "#         window = np.hamming(samples)\n",
    "#         print(sum(window))\n",
    "\n",
    "    window = window/sum(window)\n",
    "\n",
    "    np.set_printoptions(precision=4, suppress = True)\n",
    "    weightedAudio = np.asarray(audio * window)\n",
    "    for i in range(weightedAudio.size):\n",
    "        weightedAudio[i] = round(weightedAudio[i],4)\n",
    "    hN = int((samples/2))                                            # size of positive spectrum, it includes sample 0\n",
    "    hM1 = int(math.floor((window.size+1)/2))                     # half analysis window size by rounding\n",
    "    hM2 = int(math.floor(window.size/2))                         # half analysis window size by floor\n",
    "    fftbuffer = np.zeros(samples)                                 # initialize buffer for FFT\n",
    "    fftbuffer[:hM1] = weightedAudio[hM2:]                              # zero-phase window in fftbuffer\n",
    "    fftbuffer[-hM2:] = weightedAudio[:hM2]\n",
    "\n",
    "    fftAudio = fft(fftbuffer)\n",
    "\n",
    "    absX = abs(fftAudio[:hN]) # compute ansolute value of positive side\n",
    "    absX[absX<np.finfo(float).eps] = np.finfo(float).eps    # if zeros add epsilon to handle log\n",
    "    mX = 20 * np.log10(absX)\n",
    "\n",
    "    return mX[:len(mX)]"
   ]
  },
  {
   "cell_type": "code",
   "execution_count": 279,
   "id": "e36c9baa",
   "metadata": {},
   "outputs": [],
   "source": [
    "def mel(magnitudes, nb_filters, window_size):\n",
    "#     mels = []\n",
    "#     for fft in fftBatch :\n",
    "    pow_frames = ((1.0 / window_size) * ((np.asarray(magnitudes)) ** 2))  # Power Spectrum\n",
    "\n",
    "    #Calcul de la mel scale\n",
    "#         nfilt = nfilt #correspond à quoi ? au nombre de \"bins\"/filtres triangulaires que l'on veut ? (32 ou 64 ici ?)\n",
    "    scale = np.empty(nb_filters)\n",
    "    signalSample = 4100 #4100Hz le signal PCM\n",
    "    nqyst = int(signalSample/2)\n",
    "    melScale = 2595*math.log10(1+nqyst/700)\n",
    "    scale[0] = 0\n",
    "    for i in range(1,nb_filters):\n",
    "        scale[i] = i*melScale / (nb_filters-1)\n",
    "\n",
    "    #Calcul de l'échelle correspondante en hertz\n",
    "    hz_points = (700 * (10**(scale / 2595) - 1))\n",
    "#         print(hz_points.shape)\n",
    "#         print(hz_points)\n",
    "\n",
    "    #Création des \"bin\" ?\n",
    "    bins = np.floor((window_size + 1) * hz_points / signalSample)\n",
    "    \n",
    "    fbank = np.zeros((nb_filters, int(np.floor(window_size / 2))))#+ 1))))\n",
    "    #(32,128)\n",
    "    for m in range(1, nb_filters - 1):\n",
    "        #1 à 30\n",
    "        f_m_minus = int(bins[m - 1])   # left\n",
    "        f_m = int(bins[m])             # center\n",
    "        f_m_plus = int(bins[m + 1])    # right\n",
    "\n",
    "        for k in range(f_m_minus, f_m):\n",
    "            fbank[m - 1, k] = (k - bins[m - 1]) / (bins[m] - bins[m - 1])\n",
    "        for k in range(f_m, f_m_plus):\n",
    "            fbank[m - 1, k] = (bins[m + 1] - k) / (bins[m + 1] - bins[m])\n",
    "    filter_banks = np.dot(pow_frames, fbank.T)\n",
    "    filter_banks = np.where(filter_banks == 0, np.finfo(float).eps, filter_banks)  # Numerical Stability\n",
    "    filter_banks = 20 * np.log10(filter_banks)  # dB\n",
    "    \n",
    "    return filter_banks\n",
    "#     if(len(fftBatch)>1):\n",
    "#         return mels\n",
    "#     return mels[0]"
   ]
  },
  {
   "cell_type": "code",
   "execution_count": 4,
   "id": "3489b4c8",
   "metadata": {},
   "outputs": [],
   "source": [
    "def fft_extractor(audios, window):\n",
    "    ffts = []\n",
    "    for audio in audios :\n",
    "            \n",
    "        ffts.append(magnitude(audio, window))\n",
    "            \n",
    "    return ffts"
   ]
  },
  {
   "cell_type": "code",
   "execution_count": 170,
   "id": "417b707c",
   "metadata": {},
   "outputs": [],
   "source": [
    "def mel_frames_extractor(audios, nb_filters, window_size = 256, hop_length = 128):\n",
    "    window = np.hamming(window_size)\n",
    "    ffts = []\n",
    "    for audio in audios :\n",
    "        fftsLocal = []\n",
    "        n = int(len(audio)/hop_length)\n",
    "        for i in range (n-1):\n",
    "            signal = audio[i*hop_length:i*hop_length+window_size]\n",
    "            fftsLocal.append(magnitude(signal, window))\n",
    "#         ffts.append(fftsLocal)\n",
    "        ffts.append(mel(fftsLocal, nb_filters=nb_filters, window_size = window_size))\n",
    "    return ffts"
   ]
  },
  {
   "cell_type": "code",
   "execution_count": 6,
   "id": "231fa459",
   "metadata": {},
   "outputs": [],
   "source": [
    "def mel_extractor (audios, nb_filters = 64, window_size = 2048):\n",
    "    \n",
    "    window = np.hamming(window_size) #2048 sans fenêtre glissante, sinon 256\n",
    "    \n",
    "    mels = []\n",
    "    for audio in audios :\n",
    "        mag = magnitude(audio, window)\n",
    "        mels.append(mel(mag, nb_filters, window_size))\n",
    "    return mels"
   ]
  },
  {
   "cell_type": "code",
   "execution_count": 7,
   "id": "542f6c03",
   "metadata": {},
   "outputs": [],
   "source": [
    "def spectrogram(samples, sample_rate, stride_ms = 10.0, \n",
    "                          window_ms = 20.0, max_freq = None, eps = 1e-14):\n",
    "#     print(len(samples))\n",
    "    stride_size = 128#int(0.001 * sample_rate * stride_ms)\n",
    "    window_size = 256#int(0.001 * sample_rate * window_ms)\n",
    "\n",
    "    # Extract strided windows\n",
    "    truncate_size = (len(samples) - window_size) % stride_size\n",
    "    samples = samples[:len(samples) - truncate_size]\n",
    "    nshape = (window_size, 256)#(len(samples) - window_size) // stride_size + 1)\n",
    "    nstrides = (samples.strides[0], samples.strides[0] * stride_size)\n",
    "    windows = np.lib.stride_tricks.as_strided(samples, \n",
    "                                          shape = nshape, strides = nstrides)\n",
    "\n",
    "    assert np.all(windows[:, 1] == samples[stride_size:(stride_size + window_size)])\n",
    "\n",
    "    # Window weighting, squared Fast Fourier Transform (fft), scaling\n",
    "    weighting = np.hanning(window_size)[:, None]\n",
    "\n",
    "#     print(windows.shape)\n",
    "#     fft = fft_extractor(windows)\n",
    "#     print(len(fft))\n",
    "\n",
    "    fft = np.fft.rfft(windows * weighting, axis=0)\n",
    "    fft = np.absolute(fft)\n",
    "#     print(fft.shape)\n",
    "\n",
    "    scale = np.sum(weighting**2) * sample_rate\n",
    "    fft[1:-1, :] *= (2.0 / scale)\n",
    "    fft[(0, -1), :] /= scale\n",
    "\n",
    "    # Prepare fft frequency list\n",
    "    freqs = float(sample_rate) / window_size * np.arange(fft.shape[0])\n",
    "\n",
    "    # Compute spectrogram feature\n",
    "    ind = np.where(freqs <= max_freq)[0][-1] + 1\n",
    "    specgram = np.log(fft[:ind, :] + eps)\n",
    "    return specgram"
   ]
  },
  {
   "cell_type": "code",
   "execution_count": 8,
   "id": "febdba87",
   "metadata": {},
   "outputs": [],
   "source": [
    "def spec_extractor (audios):\n",
    "    spectrograms = []\n",
    "    for audio in audios :\n",
    "#         powerSpectrum, frequenciesFound, time, imageAxis = plt.specgram(audio, Fs=4000, mode='magnitude')\n",
    "#         print(powerSpectrum)\n",
    "#         print(imageAxis)\n",
    "        spectrograms.append(spectrogram(np.asarray(audio), 4100, max_freq=32000))\n",
    "    return spectrograms"
   ]
  },
  {
   "cell_type": "code",
   "execution_count": 25,
   "id": "469113ea",
   "metadata": {},
   "outputs": [
    {
     "name": "stdout",
     "output_type": "stream",
     "text": [
      "2048\n"
     ]
    }
   ],
   "source": [
    "signal = [-126, -142, -133, -130, -129, -124, -111, -114, -120, -116, -86, -93, -88, -105, -87, 73, 73, 68, 71, 54, 74, 91, 103, 116, 142, 169, 190, 208, 220, 238, 239, 244, 241, 217, 213, 201, 194, 190, 177, 170, 144, 139, 126, 107, 96, 95, 103, 106, 88, 59, 36, 15, 100, 84, 85, 76, 86, 85, 75, 76, 91, 109, 152, 165, 187, 200, 233, 235, 253, 239, 244, 232, 224, 214, 206, 190, 190, 183, -90, -83, -96, -75, -55, -47, -28, -31, -13, -24, -34, -14, -15, -17, -21, -33, -14, -9, -2, -5, -9, -2, -13, -1, -7, -9, 9, -1, 17, 30, -110, -90, -79, -72, -57, -58, -71, -62, -68, -71, -74, -95, -89, -68, -59, -70, -95, -99, -108, -113, -88, -62, -47, -32, -26, -12, -2, 1, -3, 6, -4, -1, 5, 5, -40, -40, -35, -26, -26, -4, -6, -4, -8, 0, 8, 16, 6, -7, -28, -40, -38, -41, -37, -22, -19, -12, -17, -33, -24, -5, 26, 26, 35, 186, 179, 156, 143, 134, 106, 99, 73, 51, 44, 53, 56, 70, 53, 53, 24, 34, 29, 35, 28, 24, 18, 24, 11, 12, 9, 3, -15, -14, -27, -18, -44, -52, -72, -62, -59, -63, -53, -36, -36, -21, -25, -20, 1, 13, 19, 51, 50, 50, 37, 6, -8, -34, -31, -50, -59, -66, -57, -35, -42, -61, -57, -70, -88, -107, -52, -68, -83, -106, -113, -123, -154, -164, -160, -160, -168, -151, -148, -148, -149, -153, -168, -224, -223, -237, -242, -247, -236, -217, -202, -185, -192, -189, -202, -206, -206, -210, -200, -195, -183, -213, -210, -215, -221, -230, -229, -233, -224, -235, -232, -236, -236, -243, -244, -266, -255, -265, -246, -244, -243, -240, -232, -248, -246, -246, -233, -235, -220, 8, 7, 16, 0, 28, 37, 43, 52, 58, 79, 70, 76, 85, 95, 116, 98, 94, 93, 89, 98, 57, 50, 53, 46, 18, 11, 23, 11, 11, 14, 8, 28, 43, 58, 82, 90, 102, 90, 68, 45, 26, 13, -12, -7, 16, 17, 20, 36, 48, 56, 36, 18, 17, -12, -19, -40, -51, -66, -81, -100, -125, -142, -161, -167, -168, -168, -180, 64, 54, 54, 63, 67, 59, 50, 43, 49, 34, 21, -6, -13, -28, -21, -39, -68, -78, -105, -126, -136, -60, -69, -58, -50, -66, -65, -72, -71, -56, -38, -21, -4, 2, 18, 27, 24, 19, 0, 7, -77, -87, -119, -136, -124, -141, -122, -122, -126, -127, -138, -126, -126, -127, -144, -163, -179, -201, -207, -222, -229, -81, -100, -116, -135, -139, -149, -170, -161, -194, -193, -188, -176, -173, -179, -165, -172, -169, -50, -64, -39, -35, -33, -33, -28, -19, -36, -64, -58, -65, -49, -28, -26, -6, -12, -53, -51, -50, -38, -35, -40, -36, -58, -53, -71, -61, -84, -90, -95, -77, -52, -36, -56, -50, -72, -69, -72, -70, -65, -45, -15, -1, 26, 45, 51, 74, 69, 78, -67, -64, -51, -40, -40, -38, -39, -36, -33, -44, -26, -23, 0, 21, 21, 35, 27, 42, 49, 38, 47, -179, -164, -177, -155, -157, -145, -133, -138, -126, -103, -94, -94, -84, -87, -68, -78, -82, -67, -209, -215, -222, -214, -190, -165, -169, -145, -124, -88, -76, -87, -79, -58, -77, -64, -87, -78, -71, -60, -63, -74, -56, -51, -49, -40, -15, -15, -25, -24, -42, -52, -65, -89, -101, -105, -94, -83, -52, -60, 85, 87, 98, 94, 72, 69, 101, 82, 89, 91, 99, 110, 103, 103, 77, 88, 77, 73, 64, 58, 58, 70, 66, 42, 128, 137, 140, 136, 113, 85, 67, 39, 76, 71, 77, 80, 81, 101, 104, 121, 137, 137, 127, 126, 124, 119, 104, 100, 104, 111, 111, 92, 88, 86, 85, 66, 59, -14, -15, -11, -11, -10, -10, -9, 9, 5, 7, 10, 26, 19, 39, 37, 26, 18, 19, 27, 30, 39, 32, 49, 45, 61, 85, 85, 75, 69, 75, -198, -184, -175, -148, -140, -131, -150, -166, -171, -181, -178, -178, -164, -163, -144, -151, -138, -132, -108, -86, -80, -69, -54, -48, -47, -47, -46, -61, -155, -162, -174, -190, -181, -192, -197, -181, -207, -184, -200, -179, -190, -184, -179, -158, -135, -114, -111, -108, -111, 20, 16, 45, 63, 70, 66, 51, 45, 38, 13, 13, -19, -50, -79, -103, -97, -119, -98, -88, -76, -69, -66, -51, -55, -55, -56, -66, -40, -24, 4, 30, 45, 56, 46, 46, 64, 32, 38, 26, 26, 31, 36, 27, 15, 3, 3, -15, 11, 23, -58, -45, -44, -56, -41, -45, -44, -50, -59, -35, -24, -18, -12, 9, 18, 34, 21, 17, 9, -20, -33, -41, -51, -4, -14, -38, -29, -22, -12, 4, 14, 18, -9, -7, -20, -34, -45, -52, -59, -53, -31, -29, -8, -8, 2, -4, 30, 24, 36, 16, -6, -7, -14, 4, 13, 10, 14, 10, 16, 18, 23, 26, 26, 64, 60, 47, 37, 38, 28, 14, -15, -43, -65, -60, -59, -46, -48, -37, -36, -32, -39, -34, -51, -58, -62, -68, -80, -78, -72, -79, -72, -72, -66, -95, -111, -114, -130, -115, -149, -164, -161, -143, -125, -125, -128, -138, -141, -145, -147, -144, -146, -144, -132, -117, -88, -71, -57, -63, -55, -45, -46, -43, -338, -345, -355, -375, -391, -382, -359, -356, -342, -339, -320, -303, -272, -276, -260, -246, -225, -213, -217, -225, -219, 33, 28, 13, -9, -30, -32, -51, -64, -92, -135, -142, -137, -124, -107, -75, -57, -45, -42, -36, -48, -18, -18, -14, -8, 9, 40, 33, 40, 54, 41, 50, 37, 40, 33, 22, 10, -9, -11, -10, -16, -3, 9, 15, 5, 24, 9, -14, -22, 9, 8, 5, -27, -36, -40, -34, -19, -29, -24, -35, -32, -32, -8, -1, -6, -13, -24, -18, -34, -28, -25, -32, -88, -97, -108, -125, -132, -127, -109, -84, -83, -65, -47, -51, -48, -56, -54, -65, -68, -91, -88, -86, -79, -79, -81, -81, -88, -92, -85, -81, -100, -107, -114, -94, -100, -97, -107, -123, -43, -38, -33, -54, -48, -55, -41, -22, -24, -51, -64, -80, -87, -98, -113, -101, -111, -94, -94, -71, -60, 39, 17, 7, -5, -21, -22, -24, -44, -41, -58, -54, -54, -47, -54, -47, -42, -26, -36, -59, -50, -54, -64, -76, -72, -76, -80, -68, -81, -89, -108, -127, -130, -149, -140, -137, -128, -126, -126, -101, -103, -102, -129, 0, -33, -33, -20, -28, -25, -36, -43, -31, -35, -9, -11, -1, 8, -19, -27, -45, -55, -72, -63, -74, -94, -97, -156, -147, -173, -182, -197, -212, -225, -230, -218, -224, -237, -253, -253, -251, -251, -237, -238, -228, -207, -192, -203, -214, -195, -195, -183, -183, -177, -181, -146, -125, -103, -82, -83, -72, -70, -67, -82, -84, -97, -98, -19, -12, -25, -48, -50, -68, -94, -85, -85, -84, -73, -74, -69, -99, -103, -114, -117, -136, -131, -140, -127, -131, -60, -75, -40, -37, -21, -37, -19, -4, -4, 14, -1, 8, 1, -1, -15, -3, -14, -14, -20, -12, 0, -22, -49, -53, -53, -52, -62, -81, -95, -113, -129, -144, -157, -166, -174, -176, -161, -136, -125, -100, -113, -121, -102, -108, -135, -129, -123, -146, -148, -151, -135, -137, -148, -151, -155, -155, -155, -155, -125, -115, -93, -89, -94, -76, -76, -161, -165, -172, -163, -157, -169, -154, -136, -138, -130, -131, -131, -139, -157, -165, -172, -209, -225, -234, -230, -232, -261, -270, -287, -283, -287, -289, -289, -295, -292, -273, -281, -278, -286, -286, -276, -268, -262, -255, -230, -220, -203, -191, 41, 27, 17, -2, -28, -51, -79, -90, -88, -93, -108, -108, -136, -129, -123, -129, -129, -132, -127, -146, -157, -165, -154, -232, -245, -246, -256, -247, -249, -238, -241, -254, -254, -264, -255, -248, -239, -239, -233, -224, -206, -207, -203, -180, -185, -152, -140, -124, -112, -87, -69, -40, -28, 2, 30, 60, 92, 99, 84, 47, -7, -27, -47, -73, -78, -76, -250, -232, -217, -188, -187, -179, -179, -156, -173, -152, -127, -112, -97, -84, -84, -62, -43, -21, 8, 8, 9, 2, -17, -144, -138, -142, -161, -160, -156, -161, -157, -173, -179, -188, -194, -182, -195, -191, -221, -217, -203, -199, -178, -161, -144, -132, -126, -113, -84, -65, -19, -1, 31, 76, 94, 106, 118, 111, 103, 94, 84, 93, 89, 90, 71, 46, 36, 140, 166, 167, 178, 159, 153, 146, 135, 136, 120, 115, 119, 113, 116, 100, 115, 143, 146, 133, 128, 121, 120, 125, 118, 102, 107, 96, 111, 113, 125, 125, 136, 31, 32, 47, 56, 59, 49, 33, 15, 16, 35, 31, 18, 5, -7, -11, -26, -14, -1, 7, 27, 28, 17, 2, -21, -37, -75, -78, -94, -100, -90, -109, -43, -52, -56, -65, -63, -81, -88, -97, -80, -71, -83, -82, -89, -61, -60, -52, -59, -63, -67, -76, -104, 1, -15, -34, -52, -68, -52, -44, -37, -63, -85, -79, -83, -84, -100, -115, -114, -114, -59, -72, -47, -37, -32, -16, 1, -6, 12, 0, -15, -13, -42, -35, -39, -32, -27, -54, -73, 97, 103, 89, 77, 91, 78, 66, 56, 35, 23, 15, 8, 3, -7, -13, -4, -12, -15, -16, -12, -48, -39, -29, -8, -16, -36, -27, -28, 5, 5, -14, 6, 9, 40, 72, 85, 115, 123, 119, 122, 106, -118, -135, -151, -148, -134, -120, -108, -115, -97, -98, -89, -90, -100, -100, -94, -94, -79, -59, -40, -27, -34, -38, -156, -149, -165, -165, -166, -182, -200, -188, -188, -192, -192, -185, -188, -179, -185, -180, 106, 86, 94, 111, 117, 101, 85, 102, 98, 110, 132, 138, 131, 131, 140, 141, 128, 111, 72, 29, -3, -20, -35, -44, 74, 88, 82, 87, 91, 104, 119, 141, 159, 164, 167, 154, 144, 137, 127, 111, 105, 109, 118, 105, 95, 68, 50, 31, 18, 5, 5, 8, 7, -7, -51, -45, -35, -33, -46, -43, -57, -65, -66, -73, -93, -85, -103, -90, -84, -89, -108, -173, -185, -181, -163, -144, -111, -120, -111, -123, -107, -99, -96, -99, -115, -113, -120, -42, -59, -45, -55, -61, -72, -91, -97, -91, -106, -85, -98, -80, -74, -62, -49, -60, -57, -67, -74, -68, -58, -40, -31, -84, -63, -29, -19, 19, 20, 44, 62, 62, 81, 81, 88, 98, 100, 111, 101, 118, 111, 98, 91, 74, 73, 41, 28, -9, 0, 0, 4, 13, 22, 5, -2, -31, -30, -40, -67, -84, -106, -122, -125, -123, -138, -135, -198, -205, -200, -186, -181, -179, -173, -152, -130, -128, -122, -105, -106, -120, -129, -142, -130, -87, -70, -70, -51, -114, -103, -79, -67, -43, -31, -36, -40, -42, -42, -33, -45, -58, -70, -79, -70, -75, -5, -13, -29, -33, -45, -38, -41, -33, -36, -44, -45, -52, -72, -57, -66, -79, -92, -133, -125, -124, -124, -104, -85, -69, -57, -32, -14, 11, 43, 52, 55, 54, 48, 32, 22, 15, 35, 37, 27, 20, 13, 18, 33, 42, 40, 34, 36, 41, 44, 46, 49, 61, 69, 76, 82, 80, 23, 18, 14, 28, 22, 15, -4, -33, -43, -69, -82, -104, -96, -128, -147, -141, -145, -120, 52, 43, 27, -5, -9, -40, -40, -56, -70, -82, -73, -81, -70, -72, -63, -63, -67, -77, -87, -118, -129, -138, -130, -124, -108, -123, -106, -107, -98, -105, -80, -82, -71, -81, -61, -49, -52, -31, -38, -55, -66, -69, -75, -79, -89, -94, -109, -122, -126, -148, -154, -175, -165, -173, 77, 74, 50, 52, 47, 59, 59, 63, 57, 34, 12, -5, -12, -25, -43, -59, -63, -78, -55, -36, -27, 29, 35, 31, 34, 33, 52, 49, 45, 28, 27, 10, 25, 25, 22, -4, 1, 1, 1, -11, -1, 10, 28, 32, -3, -11, -26, -50, -97, -98, -103, -160, -165, -149, -123, -103, -75, -61, -58, -40, -44, -40, -27, -43, -18, -43, -34, -53, -33, -47, -76, -85, -111, -120, -139, -127, -140, -126, -121, -107, -117, -111, -94, -77, -77, 99, 96, 99, 89, 74, 55, 16, -6, -32, -32, -41, -81, -93, -109, -113, -101, -98, -83, -61, -52, -56, -65, -97, -129, -147, -154, 107, 98, 105, 98, 110, 120, 126, 141, 128, 112, 80, 51, 44, 18, -8, -24, -18, -21, -27, 1, 22]\n",
    "adios = [signal]"
   ]
  },
  {
   "cell_type": "code",
   "execution_count": 9,
   "id": "cd092629",
   "metadata": {},
   "outputs": [],
   "source": [
    "numberOfFeatures = 15\n",
    "\n",
    "def features_extractor_from_audios(audios):\n",
    "    mfcc = []\n",
    "    sample_rate = 4100#16000#minimum_sr\n",
    "    for audio in audios :\n",
    "        npaudio = np.asarray(audio).astype(float)\n",
    "        temp = librosa.feature.mfcc(y=npaudio, sr=sample_rate, n_mfcc=numberOfFeatures, hop_length = 128, n_fft = 256)\n",
    "        mfcc.append(np.mean(temp.T, axis=0))\n",
    "    return mfcc"
   ]
  },
  {
   "cell_type": "code",
   "execution_count": 10,
   "id": "a73b883a",
   "metadata": {},
   "outputs": [],
   "source": [
    "window = 0.26 #1 #0.26 pour avoir 4160 données par exemple; permet de faire un fft sur 4096 données\n",
    "\n",
    "#sépare les fichiers audios en n audios de longueur window (sec)\n",
    "def cut_audio_window (audiofile):\n",
    "    audio, sample_rate = librosa.load(file_name, sr=minimum_sr, res_type='kaiser_fast')\n",
    "    \n",
    "    numberOfSamples = int(audio.size/sample_rate)\n",
    "    \n",
    "    if(numberOfSamples >= 1): #>= window ?\n",
    "        #length = audio.size/int(audio.size/sample_rate)\n",
    "        audios = []\n",
    "        for n in range (int(numberOfSamples/window)) :\n",
    "            sample = audio[int(n*(window*sample_rate)) : int((n+1)*(window*sample_rate))-1]\n",
    "            sample = StandardScaler().fit_transform(sample)\n",
    "            audios.append(sample)\n",
    "#             audio_mfcc.append(temp)\n",
    "        return audios\n",
    "    return []"
   ]
  },
  {
   "cell_type": "code",
   "execution_count": 11,
   "id": "3383f1ca",
   "metadata": {},
   "outputs": [],
   "source": [
    "nbr_values = 2048\n",
    "def cut_raw_audio (audio):\n",
    "    audios = []\n",
    "#     audio = StandardScaler().fit_transform(audio)\n",
    "    for n in range(int(len(audio)/nbr_values)-1):\n",
    "        sample = audio[int(n*nbr_values):int((n+1)*nbr_values)]\n",
    "        audios.append(sample)\n",
    "# #         audios.append(audio[int(n*nbr_values):int((n+1)*nbr_values)])\n",
    "#         somme = sum(sample)\n",
    "#         mean = int(somme/nbr_values)\n",
    "#         secondeSomme = 0\n",
    "#         for j in range(nbr_values) :\n",
    "#             secondeSomme += abs(sample[j]-mean)**2\n",
    "#         ecartType = (secondeSomme/nbr_values)**0.5\n",
    "#         for j in range(nbr_values) :\n",
    "#             sample[j] = (sample[j]-mean)/ecartType\n",
    "# #         break\n",
    "#         audios.append(sample)\n",
    "    return audios"
   ]
  },
  {
   "cell_type": "code",
   "execution_count": 15,
   "id": "332e561e",
   "metadata": {},
   "outputs": [],
   "source": [
    "import scipy.io.wavfile as wav\n",
    "\n",
    "def get_signal (path):\n",
    "    signal = []\n",
    "    if(\"wav\" in path):\n",
    "        fr, signal = wav.read(path)\n",
    "        signal = signal.tolist()\n",
    "    else :\n",
    "        f = open(path,\"r\")\n",
    "        lines = f.readlines()\n",
    "        for i in range (166,len(lines)-1) : #car les premieres valeurs sont liées à la phase d'adaptation du filtre PDM\n",
    "                                            #-1 car la dernière valeur peut-être tronquée à cause de l'arrêt brusque de l'enregistrement                                 \n",
    "            s = lines[i].replace(\"\\n\",\"\").replace(\"\\r\",\"\")\n",
    "            if(s!='-' and s!=''):\n",
    "                signal.append(int(s))\n",
    "    \n",
    "    return signal"
   ]
  },
  {
   "cell_type": "markdown",
   "id": "4510392f",
   "metadata": {},
   "source": [
    "###### Récupération des features dans les audios"
   ]
  },
  {
   "cell_type": "code",
   "execution_count": 9,
   "id": "8ed2903b",
   "metadata": {},
   "outputs": [
    {
     "ename": "NameError",
     "evalue": "name 'cut_audio_window' is not defined",
     "output_type": "error",
     "traceback": [
      "\u001b[1;31m---------------------------------------------------------------------------\u001b[0m",
      "\u001b[1;31mNameError\u001b[0m                                 Traceback (most recent call last)",
      "\u001b[1;32m~\\AppData\\Local\\Temp\\ipykernel_24188\\2718372509.py\u001b[0m in \u001b[0;36m<module>\u001b[1;34m\u001b[0m\n\u001b[0;32m     19\u001b[0m         \u001b[0mfile_name\u001b[0m \u001b[1;33m=\u001b[0m \u001b[0mtraffic_dataset_path\u001b[0m\u001b[1;33m+\u001b[0m\u001b[0mfile\u001b[0m\u001b[1;33m\u001b[0m\u001b[1;33m\u001b[0m\u001b[0m\n\u001b[0;32m     20\u001b[0m \u001b[1;33m\u001b[0m\u001b[0m\n\u001b[1;32m---> 21\u001b[1;33m         \u001b[0maudioTEMP\u001b[0m \u001b[1;33m=\u001b[0m \u001b[0mcut_audio_window\u001b[0m\u001b[1;33m(\u001b[0m\u001b[0mfile_name\u001b[0m\u001b[1;33m)\u001b[0m\u001b[1;33m\u001b[0m\u001b[1;33m\u001b[0m\u001b[0m\n\u001b[0m\u001b[0;32m     22\u001b[0m \u001b[1;33m\u001b[0m\u001b[0m\n\u001b[0;32m     23\u001b[0m         \u001b[1;32mif\u001b[0m \u001b[0maudioTEMP\u001b[0m\u001b[1;33m:\u001b[0m\u001b[1;33m\u001b[0m\u001b[1;33m\u001b[0m\u001b[0m\n",
      "\u001b[1;31mNameError\u001b[0m: name 'cut_audio_window' is not defined"
     ]
    }
   ],
   "source": [
    "#itérer à travers les audios qui nous intéresse\n",
    "traffic_dataset_path = '../../datasets/emergencyUS/sounds/traffic/'\n",
    "contreExemple_dataset_path = '../../datasets/contreExemples/'\n",
    "sireneFR_dataset_path = '../../datasets/urgenceFR/sons/'\n",
    "\n",
    "extracted_features = []\n",
    "audio_to_standardize = []\n",
    "# no_audio_to_standardize = []\n",
    "\n",
    "classSiren = \"siren\"\n",
    "classOther = \"other\"\n",
    "\n",
    "countSiren = 0\n",
    "countOther = 0\n",
    "\n",
    "#itère sur les sons TRAFIC US\n",
    "for file in os.listdir(traffic_dataset_path):\n",
    "    if file.lower().endswith(\".wav\"):\n",
    "        file_name = traffic_dataset_path+file\n",
    "        \n",
    "        audioTEMP = cut_audio_window(file_name)\n",
    "        \n",
    "        if audioTEMP:\n",
    "#             for example in audioTEMP :\n",
    "#                 extracted_features.append([0, classOther, file_name])\n",
    "#                 audio_to_standardize.append(example)\n",
    "#                 countOther += 1\n",
    "            nbr_of_audios = len(audioTEMP)\n",
    "            for i in range(nbr_of_audios):\n",
    "                extracted_features.append([0, classOther, file_name+\"_\"+str(i)+\"/\"+str(nbr_of_audios)])\n",
    "                audio_to_standardize.append(audioTEMP[i])\n",
    "                countOther +=1\n",
    "\n",
    "#itère sur les sons CONTRE EXEMPLES CUSTOMS\n",
    "for path in os.listdir(contreExemple_dataset_path):\n",
    "    for file in os.listdir(contreExemple_dataset_path+path+\"/\"):\n",
    "        if file.lower().endswith(\".wav\"):\n",
    "            file_name = contreExemple_dataset_path+path+\"/\"+file\n",
    "            \n",
    "            audioTEMP = cut_audio_window(file_name)\n",
    "        \n",
    "            if audioTEMP:\n",
    "                nbr_of_audios = len(audioTEMP)\n",
    "                for i in range(nbr_of_audios):\n",
    "                    extracted_features.append([0, classOther, file_name+\"_\"+str(i)+\"/\"+str(nbr_of_audios)])\n",
    "                    audio_to_standardize.append(audioTEMP[i])\n",
    "                    countOther +=1\n",
    "\n",
    "#itère sur les sons SIRENES FR\n",
    "for path in os.listdir(sireneFR_dataset_path):\n",
    "    for file in os.listdir(sireneFR_dataset_path+path+\"/\"):\n",
    "        if file.lower().endswith(\".wav\"):\n",
    "            file_name = sireneFR_dataset_path+path+\"/\"+file\n",
    "            \n",
    "            audioTEMP = cut_audio_window(file_name)\n",
    "        \n",
    "            if audioTEMP:\n",
    "                nbr_of_audios = len(audioTEMP)\n",
    "                for i in range(nbr_of_audios):\n",
    "                    extracted_features.append([0, classSiren, file_name+\"_\"+str(i)+\"/\"+str(nbr_of_audios)])\n",
    "                    audio_to_standardize.append(audioTEMP[i])\n",
    "                    countSiren +=1\n",
    "\n",
    "\n",
    "\n",
    "# print(len(extracted_features))\n",
    "# print(len(audio_to_standardize))\n",
    "print(\"Nbr d'extraits sirènes : \"+str(countSiren) + \"; pourcentage : \"+str(countSiren/len(audio_to_standardize))+\"%\")\n",
    "print(\"Nbr d'extraits autres :\"+str(countOther) + \"; pourcentage : \"+str(countOther/len(audio_to_standardize))+\"%\")\n",
    "\n",
    "# standardAudio = StandardScaler().fit_transform(audio_to_standardize)\n",
    "# standardizedAudio = fft_extractor(standardAudio)\n",
    "# # no_audio_to_standardize = fft_extractor(audio_to_standardize)\n",
    "\n",
    "# print(len(standardizedAudio))\n",
    "# for i in range(len(standardizedAudio)):\n",
    "#     extracted_features[i][0] = standardizedAudio[i]"
   ]
  },
  {
   "cell_type": "code",
   "execution_count": 509,
   "id": "ccf31cf8",
   "metadata": {},
   "outputs": [
    {
     "name": "stdout",
     "output_type": "stream",
     "text": [
      "Nbr d'extraits sirènes : 2869; pourcentage : 0.5564391000775796%\n",
      "Nbr d'extraits autres :2287; pourcentage : 0.4435608999224205%\n"
     ]
    }
   ],
   "source": [
    "#load raw arduino data\n",
    "siren_path = \"ext40gain115200baud20minSirenes.rw\"\n",
    "# siren_path = \"sireneRP.rw\"\n",
    "# other_path = \"20minStageRP.rw\"\n",
    "other_path = \"ext40gain115200baud20minAutres.rw\"\n",
    "\n",
    "other_path_int = \"int40gain115200baud20minAutres.rw\"\n",
    "siren_path_int = \"int40gain115200baud20minSirenes.rw\"\n",
    "\n",
    "other_path_augmented = \"scipyAugmentedSoundAutresRP.wav\"#\"augmentedSoundAutresNicla.wav\" #\"scipyAugmentedSoundAutresRP.wav\"\n",
    "siren_path_augmented = \"scipyAugmentedSoundSirenesRP.wav\"#\"augmentedSoundSirenesNicla.wav\" #\"scipyAugmentedSoundSirenesRP.wav\"\n",
    "\n",
    "# siren_path = \"sireneNicla.rw\"\n",
    "# other_path = \"20minStageNicla.rw\"\n",
    "\n",
    "# siren_path = \"sirenePDMNV.rw\"\n",
    "# other_path = \"silencePDMNV.rw\"\n",
    "\n",
    "\n",
    "extracted_features = []\n",
    "audio_to_standardize = []\n",
    "# no_audio_to_standardize = []\n",
    "\n",
    "classSiren = \"siren\"\n",
    "classOther = \"other\"\n",
    "\n",
    "countSiren = 0\n",
    "countOther = 0\n",
    "\n",
    "# signalTEMP = get_signal(siren_path)\n",
    "# audioTEMP = cut_raw_audio(signalTEMP)\n",
    "# nbr_of_audios = len(audioTEMP)\n",
    "# for i in range(nbr_of_audios):\n",
    "#     extracted_features.append([0, classSiren, siren_path+\"_\"+str(i)+\"/\"+str(nbr_of_audios)])\n",
    "#     audio_to_standardize.append(audioTEMP[i])\n",
    "#     countSiren +=1\n",
    "    \n",
    "signalTEMP = get_signal(siren_path_augmented)\n",
    "audioTEMP = cut_raw_audio(signalTEMP)\n",
    "nbr_of_audios = len(audioTEMP)\n",
    "for i in range(nbr_of_audios):\n",
    "    extracted_features.append([0, classSiren, siren_path_augmented+\"_\"+str(i)+\"/\"+str(nbr_of_audios)])\n",
    "    audio_to_standardize.append(audioTEMP[i])\n",
    "    countSiren +=1\n",
    "    \n",
    "# signalTEMP = get_signal(other_path)\n",
    "# audioTEMP = cut_raw_audio(signalTEMP)\n",
    "# nbr_of_audios = len(audioTEMP)\n",
    "# for i in range(nbr_of_audios):\n",
    "#     extracted_features.append([0, classOther, other_path+\"_\"+str(i)+\"/\"+str(nbr_of_audios)])\n",
    "#     audio_to_standardize.append(audioTEMP[i])\n",
    "#     countOther +=1\n",
    "    \n",
    "signalTEMP = get_signal(other_path_augmented)\n",
    "audioTEMP = cut_raw_audio(signalTEMP)\n",
    "nbr_of_audios = len(audioTEMP)\n",
    "for i in range(nbr_of_audios):\n",
    "    extracted_features.append([0, classOther, other_path_augmented+\"_\"+str(i)+\"/\"+str(nbr_of_audios)])\n",
    "    audio_to_standardize.append(audioTEMP[i])\n",
    "    countOther +=1\n",
    "    \n",
    "print(\"Nbr d'extraits sirènes : \"+str(countSiren) + \"; pourcentage : \"+str(countSiren/len(audio_to_standardize))+\"%\")\n",
    "print(\"Nbr d'extraits autres :\"+str(countOther) + \"; pourcentage : \"+str(countOther/len(audio_to_standardize))+\"%\")\n",
    "\n",
    "window = np.hamming(len(audio_to_standardize[0]))\n",
    "\n",
    "# fftsize = len(audio_to_standardize[0])\n",
    "\n",
    "# no_audio_to_standardize = dft(audio_to_standardize, window, fftsize)\n",
    "\n",
    "# print(audio_to_standardize[0])\n",
    "standardAudio = StandardScaler().fit_transform(audio_to_standardize)\n",
    "# print(standardAudio[0])\n",
    "no_audio_to_standardize = fft_extractor(standardAudio, window)\n",
    "# no_audio_to_standardize = mel_frames_extractor(standardAudio, nb_filters = 64)\n",
    "# no_audio_to_standardize = mel_extractor(audio_to_standardize, nb_filters=16, window_size = 2048)\n",
    "\n",
    "\n",
    "# no_audio_to_standardize = features_extractor_from_audios(audio_to_standardize)\n",
    "# no_audio_to_standardize = mel_extractor(audio_to_standardize, nb_filters=32, window_size = 2048)\n",
    "# no_audio_to_standardize = fft_extractor(audio_to_standardize, window)\n",
    "# no_audio_to_standardize = spec_extractor(audio_to_standardize)\n",
    "# no_audio_to_standardize = mel_frames_extractor(audio_to_standardize, nb_filters = 64)\n",
    "\n",
    "\n",
    "for i in range(len(no_audio_to_standardize)):\n",
    "    extracted_features[i][0] = no_audio_to_standardize[i].tolist()"
   ]
  },
  {
   "cell_type": "code",
   "execution_count": 510,
   "id": "69a881ea",
   "metadata": {},
   "outputs": [
    {
     "data": {
      "text/plain": [
       "1024"
      ]
     },
     "execution_count": 510,
     "metadata": {},
     "output_type": "execute_result"
    }
   ],
   "source": [
    "len(extracted_features[0][0])"
   ]
  },
  {
   "cell_type": "markdown",
   "id": "105c0009",
   "metadata": {},
   "source": [
    "#### Enregistrer les features récupérées"
   ]
  },
  {
   "cell_type": "code",
   "execution_count": 511,
   "id": "49933ca4",
   "metadata": {},
   "outputs": [],
   "source": [
    "# f = open('./2048_FFT_magnitude_from_16kHz_audios.pkl', 'wb') #en gros 1/4 de secondes d'un extrait à 16 000 Hz\n",
    "# f = open('./2048_raw_PCM_from_16kHz_audios.pkl', 'wb')\n",
    "# f = open('./2048_FFT_PCM_from_16kHz_audios.pkl', 'wb')\n",
    "# f = open('./1024_FFT_PCM_from_16kHz_audios.pkl', 'wb')\n",
    "# f = open('./2048_raw_PDM_NiclaVoice.pkl', 'wb')\n",
    "\n",
    "f = open('./2048_FFT_fonction_Thomas.pkl','wb')\n",
    "\n",
    "pickle.dump(extracted_features, f)\n",
    "f.close()"
   ]
  },
  {
   "cell_type": "markdown",
   "id": "df8b0c18",
   "metadata": {},
   "source": [
    "###### Charger des features enregistrées dans un dataframe"
   ]
  },
  {
   "cell_type": "code",
   "execution_count": 512,
   "id": "9469586c",
   "metadata": {},
   "outputs": [],
   "source": [
    "# f = open('./2048_FFT_magnitude_from_16kHz_audios.pkl', 'rb')\n",
    "# f = open('./2048_raw_PCM_from_16kHz_audios.pkl', 'rb')\n",
    "# f = open('./2048_FFT_PCM_from_16kHz_audios.pkl', 'rb')\n",
    "# f = open('./1024_FFT_PCM_from_16kHz_audios.pkl', 'rb')\n",
    "# f = open('./2048_raw_PDM_NiclaVoice.pkl', 'rb')\n",
    "\n",
    "f = open('./2048_FFT_fonction_Thomas.pkl','rb')\n",
    "\n",
    "Data = pickle.load(f)\n",
    "f.close()"
   ]
  },
  {
   "cell_type": "code",
   "execution_count": 513,
   "id": "a06ad811",
   "metadata": {},
   "outputs": [
    {
     "name": "stdout",
     "output_type": "stream",
     "text": [
      "(5156, 3)\n"
     ]
    }
   ],
   "source": [
    "#transformation des données sous forme de DataFrame\n",
    "df = pd.DataFrame(Data,columns=['feature','class','file'])\n",
    "df.head()\n",
    "print(df.shape)"
   ]
  },
  {
   "cell_type": "code",
   "execution_count": 286,
   "id": "964fcb2a",
   "metadata": {
    "scrolled": true
   },
   "outputs": [],
   "source": [
    "# print(df['feature'][5181])"
   ]
  },
  {
   "cell_type": "markdown",
   "id": "2f1d4f8d",
   "metadata": {},
   "source": [
    "###### Séparation des données en train et test"
   ]
  },
  {
   "cell_type": "code",
   "execution_count": 514,
   "id": "6cced4f5",
   "metadata": {},
   "outputs": [
    {
     "name": "stdout",
     "output_type": "stream",
     "text": [
      "torch.Size([4124, 1024])\n",
      "torch.Size([1032, 1024])\n"
     ]
    }
   ],
   "source": [
    "#diviser les données en train et test\n",
    "X = np.array(df['feature'].tolist(), dtype=\"float32\")\n",
    "\n",
    "Y = np.array(df['class'].tolist())\n",
    "\n",
    "file = np.array(df['file'].tolist())\n",
    "\n",
    "#encoder les labels\n",
    "labelencoder = LabelEncoder() #permet de transformer les labels string en valeurs numériques\n",
    "y = torch.tensor(labelencoder.fit_transform(Y))\n",
    "\n",
    "#séparation en train et test, le random_state permet d'avoir une répartition retrouvable en fonction de l'int\n",
    "x_train, x_test, y_train, y_test = train_test_split(X, y, test_size=0.2, random_state=0, stratify=y, shuffle=True)\n",
    "\n",
    "X_train = torch.from_numpy(x_train)\n",
    "X_test = torch.from_numpy(x_test)\n",
    "\n",
    "print(X_train.shape)\n",
    "print(X_test.shape)"
   ]
  },
  {
   "cell_type": "markdown",
   "id": "3a4c54bc",
   "metadata": {},
   "source": [
    "###### Création de Dataset train et test"
   ]
  },
  {
   "cell_type": "code",
   "execution_count": 515,
   "id": "1d35f4dd",
   "metadata": {},
   "outputs": [],
   "source": [
    "#création de dataset train/test\n",
    "class Dataset(torch.utils.data.Dataset):\n",
    "  'Characterizes a dataset for PyTorch'\n",
    "  def __init__(self, x_data, y_labels):\n",
    "        'Initialization'\n",
    "        self.y = y_labels\n",
    "        self.x = x_data\n",
    "\n",
    "  def __len__(self):\n",
    "        'Denotes the total number of samples'\n",
    "        return len(self.x)\n",
    "\n",
    "  def __getitem__(self, index):\n",
    "        'Generates one sample of data'\n",
    "        # Select sample\n",
    "        X = self.x[index].unsqueeze_(0)\n",
    "        y = self.y[index]\n",
    "\n",
    "        return X, y"
   ]
  },
  {
   "cell_type": "code",
   "execution_count": 516,
   "id": "025178ff",
   "metadata": {},
   "outputs": [],
   "source": [
    "dataset_train = Dataset(X_train, y_train)\n",
    "dataset_test = Dataset(X_test, y_test)\n",
    "\n",
    "#création de data loader pour choisir facilement le batch size\n",
    "batch_size=24 #14 pour 518 #17 pour 1037 #21 pour le big dataset et pour 8295 #23 7981 #24 1032 #31 2015\n",
    "\n",
    "train_loader = torch.utils.data.DataLoader(dataset_train, batch_size=batch_size, shuffle = True, num_workers = 0, drop_last = True)\n",
    "test_loader = torch.utils.data.DataLoader(dataset_test, batch_size=batch_size, shuffle = False, num_workers = 0, drop_last = True)"
   ]
  },
  {
   "cell_type": "markdown",
   "id": "b94da70b",
   "metadata": {},
   "source": [
    "## Entrainement des modèles et métriques d'évaluation"
   ]
  },
  {
   "cell_type": "code",
   "execution_count": 517,
   "id": "1d3a7015",
   "metadata": {},
   "outputs": [],
   "source": [
    "def train(model, batch_size=batch_size, weight_decay=0.0, learning_rate=0.001, num_epochs=100):\n",
    "    \n",
    "    #les données à entraîner\n",
    "    dataloader = train_loader\n",
    "    \n",
    "    # la loss \n",
    "    criterion = nn.BCELoss()\n",
    "    \n",
    "    # l'optimiseur\n",
    "    optimizer = optim.Adam(model.parameters(),\n",
    "                               lr=learning_rate,\n",
    "                               weight_decay=weight_decay)\n",
    "    \n",
    "    # on track la learning curve avec des listes\n",
    "    iters, iters_acc, losses, train_acc, val_acc = [], [], [], [], []\n",
    "    \n",
    "    # training\n",
    "    n = 0 # nombre d'iterations (pour faire des figures)\n",
    "    for epoch in range(num_epochs):\n",
    "        for batch, (features, labels) in enumerate(dataloader):\n",
    "            if (features.shape[0]==batch_size):#à enlever plus tard, permet d'ignorer les batchs pas pleines\n",
    "                model.train() # met le modèle en mode train\n",
    "                \n",
    "                out = model(features)\n",
    "\n",
    "                loss = criterion(out.float(), labels.view_as(out).float())\n",
    "\n",
    "                loss.backward()\n",
    "\n",
    "                optimizer.step()\n",
    "                optimizer.zero_grad()\n",
    "\n",
    "                # sauvegarde iteration et loss\n",
    "                iters.append(n)\n",
    "                losses.append(float(loss)/batch_size)             # loss moyen\n",
    "\n",
    "#                 print({ 'epoch': epoch, 'batch': batch, 'loss': loss.item() })\n",
    "\n",
    "                if n % 20 == 0 :\n",
    "                    train_acc.append(get_accuracy(model,train=True)) # training accuracy \n",
    "                    model_acc = get_accuracy(model,train=False)\n",
    "                    val_acc.append(model_acc)  # test accuracy\n",
    "                    iters_acc.append(n)\n",
    "\n",
    "                n += 1\n",
    "            \n",
    "    # plotting\n",
    "    plt.title(\"Courbe d'apprentissage\")\n",
    "    plt.plot(iters, losses, label=\"Train\")\n",
    "    plt.xlabel(\"Iterations\")\n",
    "    plt.ylabel(\"Loss\")\n",
    "    plt.show()\n",
    "\n",
    "    plt.title(\"Courbe d'apprentissage\")\n",
    "    plt.plot(iters_acc, train_acc, label=\"Train\")\n",
    "    plt.plot(iters_acc, val_acc, label=\"Test\")\n",
    "    plt.xlabel(\"Iterations\")\n",
    "    plt.ylabel(\"Training Accuracy\")\n",
    "    plt.legend(loc='best')\n",
    "    plt.show()\n",
    "\n",
    "    print(\"Précision finale Train : {}\".format(train_acc[-1]))\n",
    "    print(\"Précision finale Test : {}\".format(val_acc[-1]))"
   ]
  },
  {
   "cell_type": "code",
   "execution_count": 518,
   "id": "5bbf8d15",
   "metadata": {},
   "outputs": [],
   "source": [
    "def get_accuracy(model, train=False):\n",
    "    if train:\n",
    "        data = train_loader\n",
    "    else:\n",
    "        data = test_loader\n",
    "\n",
    "    model.eval() # met le modèle en mode test (inhibe le dropout par exemple)\n",
    "    correct = 0\n",
    "    total = 0\n",
    "    for inp, labels in data:\n",
    "        if (inp.shape[0]==batch_size):#à enlever plus tard, permet d'ignorer les batchs pas pleines\n",
    "            output = model(inp) # pas besoin de torch.softmax\n",
    "            pred = output\n",
    "            pred[:]=(pred[:]>0.5).float()*1\n",
    "            correct += pred.eq(labels.view_as(pred)).sum().item()\n",
    "            total += inp.shape[0]\n",
    "    return correct / total"
   ]
  },
  {
   "cell_type": "markdown",
   "id": "998640ca",
   "metadata": {},
   "source": [
    "# Apprentissage MLP Pytorch"
   ]
  },
  {
   "cell_type": "code",
   "execution_count": 519,
   "id": "100deb0b",
   "metadata": {},
   "outputs": [],
   "source": [
    "class MLP(nn.Module):\n",
    "    \n",
    "    def __init__(self, num_hidden=10):\n",
    "        super(MLP, self).__init__()\n",
    "        self.layer1 = nn.Linear(1024,num_hidden)\n",
    "#         self.layer2 = nn.Linear(num_hidden, num_hidden)\n",
    "        self.layer3 = nn.Linear(num_hidden,1)\n",
    "        self.num_hidden = num_hidden\n",
    "        self.sigmoid = nn.Sigmoid()\n",
    "        self.batch = nn.BatchNorm1d(1)\n",
    "\n",
    "    def forward(self, x): \n",
    "        norm = self.batch(x)\n",
    "        out = self.layer1(norm)\n",
    "        out = F.relu(out)\n",
    "#         out = self.layer2(out)\n",
    "#         out = F.relu(out)\n",
    "        out = self.layer3(out)\n",
    "        out = self.sigmoid(out)\n",
    "        return out"
   ]
  },
  {
   "cell_type": "code",
   "execution_count": 531,
   "id": "3c70f375",
   "metadata": {},
   "outputs": [],
   "source": [
    "modelMLP = MLP()"
   ]
  },
  {
   "cell_type": "code",
   "execution_count": 532,
   "id": "648bee2a",
   "metadata": {
    "scrolled": false
   },
   "outputs": [
    {
     "data": {
      "image/png": "[encoded data removed]",
      "text/plain": [
       "<Figure size 640x480 with 1 Axes>"
      ]
     },
     "metadata": {},
     "output_type": "display_data"
    },
    {
     "data": {
      "image/png": "[encoded data removed]",
      "text/plain": [
       "<Figure size 640x480 with 1 Axes>"
      ]
     },
     "metadata": {},
     "output_type": "display_data"
    },
    {
     "name": "stdout",
     "output_type": "stream",
     "text": [
      "Précision finale Train : 0.9022904483430799\n",
      "Précision finale Test : 0.8614341085271318\n"
     ]
    }
   ],
   "source": [
    "train(modelMLP, weight_decay=0.05, learning_rate=0.001, num_epochs = 20)"
   ]
  },
  {
   "cell_type": "markdown",
   "id": "150de52d",
   "metadata": {},
   "source": [
    "# Apprentissage CNN Pytorch"
   ]
  },
  {
   "cell_type": "code",
   "execution_count": 181,
   "id": "95dbabb1",
   "metadata": {},
   "outputs": [],
   "source": [
    "def train(model, batch_size=batch_size, weight_decay=0.0, learning_rate=0.001, num_epochs=100):\n",
    "    \n",
    "    #les données à entraîner\n",
    "    dataloader = train_loader\n",
    "    \n",
    "    # la loss \n",
    "    criterion = nn.BCELoss()\n",
    "    \n",
    "    # l'optimiseur\n",
    "    optimizer = optim.Adam(model.parameters(),\n",
    "                               lr=learning_rate,\n",
    "                               weight_decay=weight_decay)\n",
    "    \n",
    "    # on track la learning curve avec des listes\n",
    "    iters, iters_acc, losses, train_acc, val_acc = [], [], [], [], []\n",
    "    \n",
    "    # training\n",
    "    n = 0 # nombre d'iterations (pour faire des figures)\n",
    "    for epoch in range(num_epochs):\n",
    "        for batch, (features, labels) in enumerate(dataloader):\n",
    "\n",
    "            model.train() # met le modèle en mode train\n",
    "            \n",
    "            out = model(features)\n",
    "            \n",
    "            loss = criterion(out.float(), labels.view_as(out).float())\n",
    "            \n",
    "            loss.backward()\n",
    "            \n",
    "            optimizer.step()\n",
    "            optimizer.zero_grad()\n",
    "\n",
    "            # sauvegarde iteration et loss\n",
    "            iters.append(n)\n",
    "            losses.append(float(loss)/batch_size)             # loss moyen\n",
    "            \n",
    "            #print({ 'epoch': epoch, 'batch': batch, 'loss': loss.item() })\n",
    "\n",
    "            if n % 20 == 0 :\n",
    "                train_acc.append(get_accuracy(model,train=True)) # training accuracy \n",
    "                model_acc = get_accuracy(model,train=False)\n",
    "                val_acc.append(model_acc)  # test accuracy\n",
    "                iters_acc.append(n)\n",
    "\n",
    "            n += 1\n",
    "            \n",
    "    # plotting\n",
    "    plt.title(\"Courbe d'apprentissage\")\n",
    "    plt.plot(iters, losses, label=\"Train\")\n",
    "    plt.xlabel(\"Iterations\")\n",
    "    plt.ylabel(\"Loss\")\n",
    "    plt.show()\n",
    "\n",
    "    plt.title(\"Courbe d'apprentissage\")\n",
    "    plt.plot(iters_acc, train_acc, label=\"Train\")\n",
    "    plt.plot(iters_acc, val_acc, label=\"Test\")\n",
    "    plt.xlabel(\"Iterations\")\n",
    "    plt.ylabel(\"Training Accuracy\")\n",
    "    plt.legend(loc='best')\n",
    "    plt.show()\n",
    "\n",
    "    print(\"Précision finale Train : {}\".format(train_acc[-1]))\n",
    "    print(\"Précision finale Test : {}\".format(val_acc[-1]))"
   ]
  },
  {
   "cell_type": "code",
   "execution_count": 182,
   "id": "89cab0dc",
   "metadata": {},
   "outputs": [],
   "source": [
    "def get_accuracy(model, train=False):\n",
    "    if train:\n",
    "        data = train_loader\n",
    "    else:\n",
    "        data = test_loader\n",
    "\n",
    "    model.eval() # met le modèle en mode test (inhibe le dropout par exemple)\n",
    "    correct = 0\n",
    "    total = 0\n",
    "    for inp, labels in data:\n",
    "        output = model(inp) # pas besoin de torch.softmax\n",
    "        pred = output\n",
    "        pred[:]=(pred[:]>0.5).float()*1\n",
    "        correct += pred.eq(labels.view_as(pred)).sum().item()\n",
    "        total += inp.shape[0]\n",
    "    return correct / total"
   ]
  },
  {
   "cell_type": "code",
   "execution_count": 480,
   "id": "7b04f858",
   "metadata": {},
   "outputs": [],
   "source": [
    "#CNN (à tester et améliorer)\n",
    "\n",
    "class CNN(nn.Module):\n",
    "    def __init__(self):\n",
    "        super(CNN, self).__init__()\n",
    "        self.conv1 = nn.Conv2d(in_channels=1,\n",
    "                               out_channels=8,\n",
    "                               kernel_size=3,\n",
    "                               )\n",
    "        self.bn1 = nn.BatchNorm2d(8)\n",
    "\n",
    "        self.conv2 = nn.Conv2d(in_channels=8,\n",
    "                               out_channels=16,\n",
    "                               kernel_size=3,\n",
    "                               )\n",
    "        self.bn2 = nn.BatchNorm2d(16)\n",
    "\n",
    "        self.pool = nn.MaxPool2d(2, 2)\n",
    "        \n",
    "        self.fc1 = nn.Linear(192, 10) #(16*2*6);16*30*62\n",
    "        self.fc2 = nn.Linear(10, 1)\n",
    "        self.sigmoid = nn.Sigmoid()\n",
    "\n",
    "    def forward(self, x):\n",
    "        # Convolution 1\n",
    "        x = F.relu(self.bn1(self.conv1(x)))\n",
    "        x = self.pool(x)\n",
    "        \n",
    "        # Convolution 2\n",
    "        x = F.relu(self.bn2(self.conv2(x)))\n",
    "        x = self.pool(x)\n",
    "        \n",
    "#         print(x.shape)\n",
    "        \n",
    "        x = x.view(20, 192) # (16*2*6) 1024 magnitudes fenêtres de 256;(31, 16*30*62) pour 1024 magnitudes sans fenêtre glissante\n",
    "        x = self.fc1(x)\n",
    "        x = F.relu(x)\n",
    "        \n",
    "        x = self.fc2(x)\n",
    "        x = self.sigmoid(x)\n",
    "        \n",
    "        return x"
   ]
  },
  {
   "cell_type": "code",
   "execution_count": 481,
   "id": "a004b350",
   "metadata": {},
   "outputs": [],
   "source": [
    "modelCNN = CNN()"
   ]
  },
  {
   "cell_type": "code",
   "execution_count": 482,
   "id": "255cacc0",
   "metadata": {},
   "outputs": [
    {
     "data": {
      "image/png": "[encoded data removed]",
      "text/plain": [
       "<Figure size 640x480 with 1 Axes>"
      ]
     },
     "metadata": {},
     "output_type": "display_data"
    },
    {
     "data": {
      "image/png": "[encoded data removed]",
      "text/plain": [
       "<Figure size 640x480 with 1 Axes>"
      ]
     },
     "metadata": {},
     "output_type": "display_data"
    },
    {
     "name": "stdout",
     "output_type": "stream",
     "text": [
      "Précision finale Train : 0.9800970873786408\n",
      "Précision finale Test : 0.8705882352941177\n"
     ]
    }
   ],
   "source": [
    "train(modelCNN, weight_decay = 0.01, num_epochs=50)"
   ]
  },
  {
   "cell_type": "markdown",
   "id": "8aac3fcf",
   "metadata": {},
   "source": [
    "# Apprentissage MLP Tensorflow (?)"
   ]
  },
  {
   "cell_type": "markdown",
   "id": "fb495997",
   "metadata": {},
   "source": [
    "###### Séparation des données en test/train  pour modèle Tensorflow"
   ]
  },
  {
   "cell_type": "code",
   "execution_count": 20,
   "id": "72da1351",
   "metadata": {},
   "outputs": [],
   "source": [
    "import tensorflow as tf\n",
    "\n",
    "from tensorflow.keras import datasets, layers, models\n",
    "import matplotlib.pyplot as plt"
   ]
  },
  {
   "cell_type": "markdown",
   "id": "745524b1",
   "metadata": {},
   "source": [
    "###### Séparation des données enregistrées en test/train  pour modèle Tensorflow"
   ]
  },
  {
   "cell_type": "code",
   "execution_count": 490,
   "id": "13d01662",
   "metadata": {},
   "outputs": [
    {
     "name": "stdout",
     "output_type": "stream",
     "text": [
      "(5156, 3)\n"
     ]
    }
   ],
   "source": [
    "# f = open('./2048_FFT_magnitude_from_16kHz_audios.pkl', 'rb')\n",
    "# f = open('./2048_raw_PCM_from_16kHz_audios.pkl', 'rb')\n",
    "# f = open('./2048_FFT_PCM_from_16kHz_audios.pkl', 'rb')\n",
    "f = open('./2048_FFT_fonction_Thomas.pkl','rb')\n",
    "\n",
    "Data = pickle.load(f)\n",
    "f.close()\n",
    "#transformation des données sous forme de DataFrame\n",
    "df = pd.DataFrame(Data,columns=['feature','class','file'])\n",
    "df.head()\n",
    "print(df.shape)"
   ]
  },
  {
   "cell_type": "code",
   "execution_count": 356,
   "id": "dd9a0999",
   "metadata": {},
   "outputs": [],
   "source": [
    "# def get_dataset_partitions_pd(df, train_split=0.7, val_split=0.1, test_split=0.2):\n",
    "\n",
    "#     # Specify seed to always have the same split distribution between runs\n",
    "#     indices_or_sections = [int(train_split * len(df)), int((1 - val_split - test_split) * len(df))]\n",
    "    \n",
    "#     train_ds, val_ds, test_ds = np.split(df_sample, indices_or_sections)\n",
    "    \n",
    "#     return train_ds, val_ds, test_ds"
   ]
  },
  {
   "cell_type": "code",
   "execution_count": 357,
   "id": "6600b4af",
   "metadata": {},
   "outputs": [],
   "source": [
    "# train_dataset, val_dataset, test_dataset = get_dataset_partitions_pd(df)\n",
    "\n",
    "# print(train_dataset)"
   ]
  },
  {
   "cell_type": "code",
   "execution_count": 491,
   "id": "30880c80",
   "metadata": {},
   "outputs": [],
   "source": [
    "#mélange du dataframe suivant un int seed pour avoir toujours le même mélange\n",
    "df_sample = df.sample(frac=1, random_state=0)\n",
    "\n",
    "#création du dataset tensorflow avec les labels encodés\n",
    "labels = df_sample['class']\n",
    "labels = LabelEncoder().fit_transform(labels)\n",
    "numeric_features = df_sample['feature']\n",
    "for i in range(numeric_features.shape[0]):\n",
    "    numeric_features[i] = np.asarray(numeric_features[i]).astype('float32')\n",
    "    \n",
    "numeric_features = np.array([np.array(val) for val in numeric_features])\n",
    "\n",
    "numeric_dataset = tf.data.Dataset.from_tensor_slices((numeric_features, labels))"
   ]
  },
  {
   "cell_type": "code",
   "execution_count": 492,
   "id": "78184d56",
   "metadata": {},
   "outputs": [
    {
     "name": "stdout",
     "output_type": "stream",
     "text": [
      "1032\n"
     ]
    }
   ],
   "source": [
    "#séparation du dataset en dataset de train et de test\n",
    "percentage = int(len(numeric_dataset)*0.2) + 1\n",
    "print(percentage)\n",
    "test_dataset = numeric_dataset.take(percentage) \n",
    "train_dataset = numeric_dataset.skip(percentage)"
   ]
  },
  {
   "cell_type": "code",
   "execution_count": 493,
   "id": "5ba5058d",
   "metadata": {},
   "outputs": [],
   "source": [
    "#création de batches sur les datasets\n",
    "batch_size = 24 #14 518 #17 1037~ #21 5000~/2016 et 8295 #23 pour 7981 #24 1032 #11 pour 3113\n",
    "test_batches = test_dataset.batch(batch_size)\n",
    "train_batches = train_dataset.batch(batch_size)"
   ]
  },
  {
   "cell_type": "code",
   "execution_count": 76,
   "id": "57ef56dc",
   "metadata": {},
   "outputs": [],
   "source": [
    "# dataset_train = Dataset(X_train, y_train)\n",
    "# dataset_test = Dataset(X_test, y_test)\n",
    "\n",
    "# #création de data loader pour choisir facilement le batch size\n",
    "# batch_size=13\n",
    "\n",
    "# train_loader = torch.utils.data.DataLoader(dataset_train, batch_size=batch_size, shuffle=True, num_workers=0)\n",
    "# test_loader = torch.utils.data.DataLoader(dataset_test, batch_size=batch_size, shuffle=False, num_workers=0)\n",
    "\n",
    "###\n",
    "\n",
    "# train_loader = tf.data.Dataset.from_tensors(X_train, y_train).batch(batch_size)\n",
    "# test_loader = tf.data.Dataset(X_test, y_test).batch(batch_size)"
   ]
  },
  {
   "cell_type": "markdown",
   "id": "e9bf3631",
   "metadata": {},
   "source": [
    "### CNN Tensorflow"
   ]
  },
  {
   "cell_type": "code",
   "execution_count": 456,
   "id": "2b5c0a7c",
   "metadata": {},
   "outputs": [],
   "source": [
    "optimizer = tf.keras.optimizers.Adam(\n",
    "    decay=0.05,\n",
    "    learning_rate=0.01\n",
    ")\n",
    "\n",
    "normalizer = tf.keras.layers.BatchNormalization()\n",
    "\n",
    "def get_cnn_model():\n",
    "    model = tf.keras.Sequential([\n",
    "        tf.keras.layers.Conv2D(8, (3, 3), activation='relu', input_shape=(15, 64, 1)),\n",
    "        tf.keras.layers.MaxPooling2D((2, 2)),\n",
    "        normalizer,\n",
    "        tf.keras.layers.Conv2D(16, (3, 3), activation='relu'),\n",
    "        tf.keras.layers.MaxPooling2D((2, 2)),\n",
    "        tf.keras.layers.Flatten(),\n",
    "        tf.keras.layers.Dense(10, activation='relu'),\n",
    "        tf.keras.layers.Dense(1, activation = 'sigmoid')\n",
    "    ])\n",
    "    \n",
    "    model.compile(optimizer=optimizer,\n",
    "            loss=tf.keras.losses.BinaryCrossentropy(from_logits=False),\n",
    "            metrics=['accuracy'])\n",
    "    return model"
   ]
  },
  {
   "cell_type": "markdown",
   "id": "77a0c81e",
   "metadata": {},
   "source": [
    "### MLP Tensorflow"
   ]
  },
  {
   "cell_type": "code",
   "execution_count": 495,
   "id": "e027e730",
   "metadata": {},
   "outputs": [],
   "source": [
    "normalizer = tf.keras.layers.BatchNormalization()\n",
    "\n",
    "optimizer = tf.keras.optimizers.Adam(\n",
    "#     decay=0.01,\n",
    "    learning_rate=0.01\n",
    ")\n",
    "\n",
    "\n",
    "def get_mlp_model():\n",
    "    model = tf.keras.Sequential([\n",
    "        normalizer,\n",
    "        tf.keras.layers.Dense(10, activation='relu'),\n",
    "        tf.keras.layers.Dense(1, activation ='sigmoid')\n",
    "      ])\n",
    "\n",
    "    model.compile(optimizer=optimizer,\n",
    "                loss=tf.keras.losses.BinaryCrossentropy(from_logits=False),\n",
    "                metrics=['accuracy'])\n",
    "    return model"
   ]
  },
  {
   "cell_type": "code",
   "execution_count": 496,
   "id": "6e385399",
   "metadata": {},
   "outputs": [],
   "source": [
    "# batch_size = 21\n",
    "# numeric_batches = numeric_dataset.shuffle(1000).batch(batch_size)"
   ]
  },
  {
   "cell_type": "code",
   "execution_count": 505,
   "id": "b1ec1c27",
   "metadata": {},
   "outputs": [],
   "source": [
    "model = get_mlp_model()"
   ]
  },
  {
   "cell_type": "code",
   "execution_count": 506,
   "id": "49527bed",
   "metadata": {
    "scrolled": true
   },
   "outputs": [
    {
     "name": "stdout",
     "output_type": "stream",
     "text": [
      "Epoch 1/30\n",
      "172/172 [==============================] - 0s 731us/step - loss: 0.4186 - accuracy: 0.8055\n",
      "Epoch 2/30\n",
      "172/172 [==============================] - 0s 743us/step - loss: 0.3617 - accuracy: 0.8354\n",
      "Epoch 3/30\n",
      "172/172 [==============================] - 0s 789us/step - loss: 0.3545 - accuracy: 0.8426\n",
      "Epoch 4/30\n",
      "172/172 [==============================] - 0s 716us/step - loss: 0.3508 - accuracy: 0.8453\n",
      "Epoch 5/30\n",
      "172/172 [==============================] - 0s 700us/step - loss: 0.3475 - accuracy: 0.8465\n",
      "Epoch 6/30\n",
      "172/172 [==============================] - 0s 710us/step - loss: 0.3455 - accuracy: 0.8443\n",
      "Epoch 7/30\n",
      "172/172 [==============================] - 0s 718us/step - loss: 0.3429 - accuracy: 0.8472\n",
      "Epoch 8/30\n",
      "172/172 [==============================] - 0s 721us/step - loss: 0.3408 - accuracy: 0.8448\n",
      "Epoch 9/30\n",
      "172/172 [==============================] - 0s 735us/step - loss: 0.3396 - accuracy: 0.8460\n",
      "Epoch 10/30\n",
      "172/172 [==============================] - 0s 737us/step - loss: 0.3380 - accuracy: 0.8463\n",
      "Epoch 11/30\n",
      "172/172 [==============================] - 0s 719us/step - loss: 0.3377 - accuracy: 0.8472\n",
      "Epoch 12/30\n",
      "172/172 [==============================] - 0s 722us/step - loss: 0.3356 - accuracy: 0.8470\n",
      "Epoch 13/30\n",
      "172/172 [==============================] - 0s 912us/step - loss: 0.3342 - accuracy: 0.8477\n",
      "Epoch 14/30\n",
      "172/172 [==============================] - 0s 775us/step - loss: 0.3333 - accuracy: 0.8484\n",
      "Epoch 15/30\n",
      "172/172 [==============================] - 0s 709us/step - loss: 0.3322 - accuracy: 0.8484\n",
      "Epoch 16/30\n",
      "172/172 [==============================] - 0s 725us/step - loss: 0.3315 - accuracy: 0.8504\n",
      "Epoch 17/30\n",
      "172/172 [==============================] - 0s 792us/step - loss: 0.3306 - accuracy: 0.8501\n",
      "Epoch 18/30\n",
      "172/172 [==============================] - 0s 773us/step - loss: 0.3293 - accuracy: 0.8506\n",
      "Epoch 19/30\n",
      "172/172 [==============================] - 0s 718us/step - loss: 0.3288 - accuracy: 0.8504\n",
      "Epoch 20/30\n",
      "172/172 [==============================] - 0s 692us/step - loss: 0.3284 - accuracy: 0.8511\n",
      "Epoch 21/30\n",
      "172/172 [==============================] - 0s 690us/step - loss: 0.3280 - accuracy: 0.8501\n",
      "Epoch 22/30\n",
      "172/172 [==============================] - 0s 695us/step - loss: 0.3274 - accuracy: 0.8506\n",
      "Epoch 23/30\n",
      "172/172 [==============================] - 0s 682us/step - loss: 0.3273 - accuracy: 0.8509\n",
      "Epoch 24/30\n",
      "172/172 [==============================] - 0s 693us/step - loss: 0.3271 - accuracy: 0.8514\n",
      "Epoch 25/30\n",
      "172/172 [==============================] - 0s 670us/step - loss: 0.3266 - accuracy: 0.8518\n",
      "Epoch 26/30\n",
      "172/172 [==============================] - 0s 690us/step - loss: 0.3260 - accuracy: 0.8523\n",
      "Epoch 27/30\n",
      "172/172 [==============================] - 0s 734us/step - loss: 0.3259 - accuracy: 0.8521\n",
      "Epoch 28/30\n",
      "172/172 [==============================] - 0s 705us/step - loss: 0.3254 - accuracy: 0.8511\n",
      "Epoch 29/30\n",
      "172/172 [==============================] - 0s 681us/step - loss: 0.3253 - accuracy: 0.8514\n",
      "Epoch 30/30\n",
      "172/172 [==============================] - 0s 714us/step - loss: 0.3249 - accuracy: 0.8523\n"
     ]
    },
    {
     "data": {
      "text/plain": [
       "<keras.callbacks.History at 0x2542e60d3d0>"
      ]
     },
     "execution_count": 506,
     "metadata": {},
     "output_type": "execute_result"
    }
   ],
   "source": [
    "model.fit(train_batches, shuffle = 0, epochs=30)"
   ]
  },
  {
   "cell_type": "code",
   "execution_count": 507,
   "id": "3658e0fa",
   "metadata": {},
   "outputs": [],
   "source": [
    "# class_names = ['0','1']"
   ]
  },
  {
   "cell_type": "code",
   "execution_count": 508,
   "id": "420c1b42",
   "metadata": {},
   "outputs": [
    {
     "data": {
      "image/png": "[encoded data removed]",
      "text/plain": [
       "<Figure size 600x400 with 1 Axes>"
      ]
     },
     "metadata": {},
     "output_type": "display_data"
    },
    {
     "name": "stdout",
     "output_type": "stream",
     "text": [
      "0.8565891472868217 %\n"
     ]
    }
   ],
   "source": [
    "y = model.predict(test_batches)\n",
    "\n",
    "y_pred = []\n",
    "for _ in y:\n",
    "    pred = 0\n",
    "    if(_[0]>=0.5):\n",
    "        pred = 1\n",
    "    y_pred.append(pred)\n",
    "    \n",
    "# print(next(iter(train_batches))[0][0].label)\n",
    "y_true = []\n",
    "for inp, lab in test_dataset :\n",
    "    y_true.append(lab.numpy())\n",
    "    \n",
    "conf_mat = confusion_matrix(y_true,\n",
    "                            y_pred)\n",
    "\n",
    "tn, fp, fn, tp = conf_mat.ravel()\n",
    "\n",
    "labelencoder = LabelEncoder()\n",
    "y = torch.tensor(labelencoder.fit_transform(['other','siren']))\n",
    "\n",
    "fig, ax = plt.subplots(figsize=(6,4))\n",
    "sns.heatmap(conf_mat, annot=True, fmt='d', xticklabels=labelencoder.classes_, yticklabels=labelencoder.classes_, cbar=False)\n",
    "plt.ylabel('Actual')\n",
    "plt.xlabel('Predicted')\n",
    "plt.show()\n",
    "\n",
    "print(str((tp+tn)/percentage)+\" %\")"
   ]
  },
  {
   "cell_type": "raw",
   "id": "c9fb8092",
   "metadata": {},
   "source": [
    "y_pred = []\n",
    "for _ in y:\n",
    "    pred = 0\n",
    "    if(_[0]>=0.5):\n",
    "        pred = 1\n",
    "    y_pred.append(pred)"
   ]
  },
  {
   "cell_type": "raw",
   "id": "82b38009",
   "metadata": {},
   "source": [
    "# print(next(iter(train_batches))[0][0].label)\n",
    "y_true = []\n",
    "for inp, lab in test_dataset :\n",
    "    y_true.append(lab.numpy())"
   ]
  },
  {
   "cell_type": "code",
   "execution_count": 449,
   "id": "f7674be8",
   "metadata": {},
   "outputs": [],
   "source": [
    "# print(y_pred)"
   ]
  },
  {
   "cell_type": "raw",
   "id": "40d8b1af",
   "metadata": {
    "scrolled": false
   },
   "source": [
    "conf_mat = confusion_matrix(y_true,\n",
    "                            y_pred)\n",
    "\n",
    "tn, fp, fn, tp = conf_mat.ravel()\n",
    "\n",
    "labelencoder = LabelEncoder()\n",
    "y = torch.tensor(labelencoder.fit_transform(['other','siren']))\n",
    "\n",
    "fig, ax = plt.subplots(figsize=(6,4))\n",
    "sns.heatmap(conf_mat, annot=True, fmt='d', xticklabels=labelencoder.classes_, yticklabels=labelencoder.classes_, cbar=False)\n",
    "plt.ylabel('Actual')\n",
    "plt.xlabel('Predicted')\n",
    "plt.show()\n",
    "\n",
    "print(str((tp+tn)/percentage)+\" %\")"
   ]
  },
  {
   "cell_type": "code",
   "execution_count": 144,
   "id": "84f340cf",
   "metadata": {},
   "outputs": [],
   "source": [
    "def weights_to_cpp(model, filename=\"weights_and_biases.txt\"):\n",
    "    model.summary()\n",
    "    weights = []\n",
    "    biases = []\n",
    "    for l in range(len(model.layers)):\n",
    "        W, B = model.layers[l].get_weights()\n",
    "        weights.append(W.flatten())\n",
    "        biases.append(B.flatten())\n",
    "    \n",
    "    z = []\n",
    "    b = []\n",
    "    for i in np.array(weights):\n",
    "        for l in i:\n",
    "            z.append(l)\n",
    "    for i in np.array(biases):\n",
    "        for l in i:\n",
    "            b.append(l)\n",
    "    with open(filename, \"w\") as f:\n",
    "      f.write(\"weights: {\")\n",
    "      for i in range(len(z)):\n",
    "        if (i < len(z)-1):\n",
    "          f.write(str(z[i])+\", \")\n",
    "        else:\n",
    "          f.write(str(z[i]))\n",
    "      f.write(\"}\\n\\n\")\n",
    "\n",
    "      f.write(\"biases: {\")\n",
    "      for i in range(len(b)):\n",
    "        if (i < len(b)-1):\n",
    "          f.write(str(b[i])+\", \")\n",
    "        else:\n",
    "          f.write(str(b[i]))\n",
    "      f.write(\"}\\n\\n\")\n",
    "    \n",
    "      arch = []\n",
    "    \n",
    "      arch.append(model.layers[0].input_shape[1])\n",
    "      for i in range(1, len(model.layers)):\n",
    "          arch.append(model.layers[i].input_shape[1])\n",
    "      arch.append(model.layers[len(model.layers)-1].output_shape[1])\n",
    "      f.write(\"Architecture: {\")\n",
    "      for i in range(len(arch)):\n",
    "          if (i < len(arch)-1):\n",
    "              f.write(str(arch[i])+\", \")\n",
    "          else:\n",
    "              f.write(str(arch[i]))\n",
    "      f.write(\"}\")\n",
    "      print(\"Architecture (alpha):\", arch)\n",
    "      print(\"Layers: \", len(arch))\n",
    "    print(\"Weights: \", z)\n",
    "    print(\"Biases: \", b)\n"
   ]
  },
  {
   "cell_type": "code",
   "execution_count": 500,
   "id": "a3b092a8",
   "metadata": {},
   "outputs": [
    {
     "name": "stdout",
     "output_type": "stream",
     "text": [
      "Model: \"sequential_39\"\n",
      "_________________________________________________________________\n",
      " Layer (type)                Output Shape              Param #   \n",
      "=================================================================\n",
      " batch_normalization_38 (Bat  (None, 16)               64        \n",
      " chNormalization)                                                \n",
      "                                                                 \n",
      " dense_79 (Dense)            (None, 10)                170       \n",
      "                                                                 \n",
      " dense_80 (Dense)            (None, 1)                 11        \n",
      "                                                                 \n",
      "=================================================================\n",
      "Total params: 245\n",
      "Trainable params: 213\n",
      "Non-trainable params: 32\n",
      "_________________________________________________________________\n"
     ]
    },
    {
     "ename": "ValueError",
     "evalue": "too many values to unpack (expected 2)",
     "output_type": "error",
     "traceback": [
      "\u001b[1;31m---------------------------------------------------------------------------\u001b[0m",
      "\u001b[1;31mValueError\u001b[0m                                Traceback (most recent call last)",
      "\u001b[1;32m~\\AppData\\Local\\Temp\\ipykernel_12784\\403621126.py\u001b[0m in \u001b[0;36m<module>\u001b[1;34m\u001b[0m\n\u001b[1;32m----> 1\u001b[1;33m \u001b[0mweights_to_cpp\u001b[0m\u001b[1;33m(\u001b[0m\u001b[0mmodel\u001b[0m\u001b[1;33m)\u001b[0m\u001b[1;33m\u001b[0m\u001b[1;33m\u001b[0m\u001b[0m\n\u001b[0m",
      "\u001b[1;32m~\\AppData\\Local\\Temp\\ipykernel_12784\\4238953832.py\u001b[0m in \u001b[0;36mweights_to_cpp\u001b[1;34m(model, filename)\u001b[0m\n\u001b[0;32m      4\u001b[0m     \u001b[0mbiases\u001b[0m \u001b[1;33m=\u001b[0m \u001b[1;33m[\u001b[0m\u001b[1;33m]\u001b[0m\u001b[1;33m\u001b[0m\u001b[1;33m\u001b[0m\u001b[0m\n\u001b[0;32m      5\u001b[0m     \u001b[1;32mfor\u001b[0m \u001b[0ml\u001b[0m \u001b[1;32min\u001b[0m \u001b[0mrange\u001b[0m\u001b[1;33m(\u001b[0m\u001b[0mlen\u001b[0m\u001b[1;33m(\u001b[0m\u001b[0mmodel\u001b[0m\u001b[1;33m.\u001b[0m\u001b[0mlayers\u001b[0m\u001b[1;33m)\u001b[0m\u001b[1;33m)\u001b[0m\u001b[1;33m:\u001b[0m\u001b[1;33m\u001b[0m\u001b[1;33m\u001b[0m\u001b[0m\n\u001b[1;32m----> 6\u001b[1;33m         \u001b[0mW\u001b[0m\u001b[1;33m,\u001b[0m \u001b[0mB\u001b[0m \u001b[1;33m=\u001b[0m \u001b[0mmodel\u001b[0m\u001b[1;33m.\u001b[0m\u001b[0mlayers\u001b[0m\u001b[1;33m[\u001b[0m\u001b[0ml\u001b[0m\u001b[1;33m]\u001b[0m\u001b[1;33m.\u001b[0m\u001b[0mget_weights\u001b[0m\u001b[1;33m(\u001b[0m\u001b[1;33m)\u001b[0m\u001b[1;33m\u001b[0m\u001b[1;33m\u001b[0m\u001b[0m\n\u001b[0m\u001b[0;32m      7\u001b[0m         \u001b[0mweights\u001b[0m\u001b[1;33m.\u001b[0m\u001b[0mappend\u001b[0m\u001b[1;33m(\u001b[0m\u001b[0mW\u001b[0m\u001b[1;33m.\u001b[0m\u001b[0mflatten\u001b[0m\u001b[1;33m(\u001b[0m\u001b[1;33m)\u001b[0m\u001b[1;33m)\u001b[0m\u001b[1;33m\u001b[0m\u001b[1;33m\u001b[0m\u001b[0m\n\u001b[0;32m      8\u001b[0m         \u001b[0mbiases\u001b[0m\u001b[1;33m.\u001b[0m\u001b[0mappend\u001b[0m\u001b[1;33m(\u001b[0m\u001b[0mB\u001b[0m\u001b[1;33m.\u001b[0m\u001b[0mflatten\u001b[0m\u001b[1;33m(\u001b[0m\u001b[1;33m)\u001b[0m\u001b[1;33m)\u001b[0m\u001b[1;33m\u001b[0m\u001b[1;33m\u001b[0m\u001b[0m\n",
      "\u001b[1;31mValueError\u001b[0m: too many values to unpack (expected 2)"
     ]
    }
   ],
   "source": [
    "weights_to_cpp(model)"
   ]
  },
  {
   "cell_type": "code",
   "execution_count": null,
   "id": "18e77018",
   "metadata": {},
   "outputs": [],
   "source": []
  },
  {
   "cell_type": "markdown",
   "id": "d4b4ec16",
   "metadata": {},
   "source": [
    "###### Enregistrement du modèle entraîné en TensorflowLite"
   ]
  },
  {
   "cell_type": "code",
   "execution_count": 354,
   "id": "9220f372",
   "metadata": {},
   "outputs": [
    {
     "name": "stdout",
     "output_type": "stream",
     "text": [
      "INFO:tensorflow:Assets written to: C:\\Users\\User\\AppData\\Local\\Temp\\tmp3i9j88d7\\assets\n"
     ]
    },
    {
     "name": "stderr",
     "output_type": "stream",
     "text": [
      "INFO:tensorflow:Assets written to: C:\\Users\\User\\AppData\\Local\\Temp\\tmp3i9j88d7\\assets\n"
     ]
    },
    {
     "name": "stdout",
     "output_type": "stream",
     "text": [
      "Model is 3208 bytes\n"
     ]
    }
   ],
   "source": [
    "# Convert the model to the TensorFlow Lite format without quantization\n",
    "converter = tf.lite.TFLiteConverter.from_keras_model(model)\n",
    "tflite_model = converter.convert()\n",
    "\n",
    "# Save the model to disk\n",
    "open(\"32MelModel.tflite\", \"wb\").write(tflite_model)\n",
    "  \n",
    "import os\n",
    "basic_model_size = os.path.getsize(\"32MelModel.tflite\")\n",
    "print(\"Model is %d bytes\" % basic_model_size)\n",
    "  \n",
    "   "
   ]
  },
  {
   "cell_type": "markdown",
   "id": "594411e6",
   "metadata": {},
   "source": [
    "## Création correcte du modèle TFLite, mais pas moyen de créer le header ici.\n",
    "## Header à créer sur Colab via ce lien https://colab.research.google.com/drive/1HT0kYt1cFgC2lfZwO6sJVotYmjCrqhII#scrollTo=e6de24c5 en copie/collant le modèle TFLite dans Colab"
   ]
  },
  {
   "cell_type": "markdown",
   "id": "46883b37",
   "metadata": {},
   "source": [
    "###### Création d'un header arduino à partir du model tflite"
   ]
  },
  {
   "cell_type": "code",
   "execution_count": 125,
   "id": "001f3b2f",
   "metadata": {},
   "outputs": [],
   "source": [
    "# !echo \"const unsigned char model[] = {\" > /content/model.h\n",
    "# !cat siren_model.tflite | xxd -i      >> /content/model.h\n",
    "# !echo \"};\"                              >> /content/model.h\n",
    "\n",
    "# import os\n",
    "# model_h_size = os.path.getsize(\"model.h\")\n",
    "# print(f\"Header file, model.h, is {model_h_size:,} bytes.\")\n",
    "# print(\"\\nOpen the side panel (refresh if needed). Double click model.h to download the file.\")"
   ]
  },
  {
   "cell_type": "code",
   "execution_count": null,
   "id": "35d894cd",
   "metadata": {},
   "outputs": [],
   "source": []
  }
 ],
 "metadata": {
  "kernelspec": {
   "display_name": "Python 3 (ipykernel)",
   "language": "python",
   "name": "python3"
  },
  "language_info": {
   "codemirror_mode": {
    "name": "ipython",
    "version": 3
   },
   "file_extension": ".py",
   "mimetype": "text/x-python",
   "name": "python",
   "nbconvert_exporter": "python",
   "pygments_lexer": "ipython3",
   "version": "3.9.13"
  }
 },
 "nbformat": 4,
 "nbformat_minor": 5
}

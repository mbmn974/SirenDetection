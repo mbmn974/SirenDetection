{
 "cells": [
  {
   "cell_type": "code",
   "execution_count": 3,
   "id": "adebc92b",
   "metadata": {},
   "outputs": [
    {
     "name": "stderr",
     "output_type": "stream",
     "text": [
      "C:\\ProgramData\\Anaconda3\\lib\\site-packages\\paramiko\\transport.py:219: CryptographyDeprecationWarning: Blowfish has been deprecated\n",
      "  \"class\": algorithms.Blowfish,\n"
     ]
    }
   ],
   "source": [
    "#tools and test methods\n",
    "import numpy as np\n",
    "import scipy.io.wavfile as wav\n",
    "import random\n",
    "from audiomentations import AddBackgroundNoise"
   ]
  },
  {
   "cell_type": "markdown",
   "id": "7966d6d1",
   "metadata": {},
   "source": [
    "#### Test audiomentation"
   ]
  },
  {
   "cell_type": "code",
   "execution_count": 14,
   "id": "79fbd1d2",
   "metadata": {},
   "outputs": [],
   "source": [
    "transform = AddBackgroundNoise(\n",
    "    sounds_path=\"audiomentation/addedNoise8kHz\",\n",
    "    min_snr_in_db=-44.7,\n",
    "    max_snr_in_db=-40.7,\n",
    "    p=1.0\n",
    ")\n",
    "\n",
    "toAugmentPath = \"audiomentation/sirene_8kHz_SNR.wav\"\n",
    "\n",
    "fr, signal = wav.read(toAugmentPath)\n",
    "\n",
    "augmented_sound = transform(signal[0:16000], sample_rate=8000)"
   ]
  },
  {
   "cell_type": "code",
   "execution_count": 15,
   "id": "69d46098",
   "metadata": {},
   "outputs": [],
   "source": [
    "wav.write(\"audiomentation/sireneAugmented_8kHz_SNR.wav\", 8000, augmented_sound.astype(np.int16))"
   ]
  },
  {
   "cell_type": "markdown",
   "id": "83ca35ad",
   "metadata": {},
   "source": [
    "#### Séparation d'un jeu de données en jeux de données Train et Test suivant un pourcentage donné"
   ]
  },
  {
   "cell_type": "code",
   "execution_count": 4,
   "id": "df6b19f4",
   "metadata": {},
   "outputs": [],
   "source": [
    "#séparation classe Sirènes (changer les path pour séparer une autre classe)\n",
    "percentage = 0.10\n",
    "\n",
    "f = open(\"datasetTrainTestToAugment/sirene_8kHz_40gain_rp_trimed_audacity.rw\",\"r\")\n",
    "# f = open(\"datasetTrainTestToAugment/autre_8kHz_40gain_rp_complet.rw\",\"r\")\n",
    "audioSize = 8000\n",
    "lines = f.readlines()\n",
    "linesLength = int(len(lines)/audioSize)\n",
    "filePrct = int(percentage*linesLength)\n",
    "testSamples = random.sample(range(0, linesLength-1), filePrct)\n",
    "testSamples.sort(reverse=True)\n",
    "dataTest = []\n",
    "for i in testSamples :\n",
    "    for j in range(i*audioSize,i*audioSize+audioSize):\n",
    "        dataTest.append(lines[j])\n",
    "    del lines[i*audioSize:i*audioSize+audioSize]\n",
    "f.close()"
   ]
  },
  {
   "cell_type": "code",
   "execution_count": 6,
   "id": "e3b1a31b",
   "metadata": {},
   "outputs": [],
   "source": [
    "with open(\"datasetTrainTestToAugment/sirene_8kHz_Test.rw\", \"w\") as file:\n",
    "# with open(\"datasetTrainTestToAugment/autre_8kHz_Test.rw\", \"w\") as file:\n",
    "    for data in dataTest :\n",
    "        file.write(data)\n",
    "with open(\"datasetTrainTestToAugment/sirene_8kHz_Train.rw\", \"w\") as file:\n",
    "# with open(\"datasetTrainTestToAugment/autre_8kHz_Train.rw\", \"w\") as file:\n",
    "    for data in lines :\n",
    "        file.write(data)"
   ]
  },
  {
   "cell_type": "markdown",
   "id": "c7fa24f5",
   "metadata": {},
   "source": [
    "#### .rw vers .wav (pour utiliser Audiomentation)"
   ]
  },
  {
   "cell_type": "code",
   "execution_count": 7,
   "id": "8857a9c2",
   "metadata": {},
   "outputs": [],
   "source": [
    "# Signal from the Nano RP2040 Connect being in 16 bit PCM format, conversion directly possible in .wav\n",
    "name = \"datasetTrainTestToAugment/sirene_8kHz_Test\"\n",
    "f = open(name+\".rw\",\"r\")\n",
    "lines = f.readlines()\n",
    "# print(len(lines))\n",
    "signal = []\n",
    "for i in range (len(lines)) :\n",
    "    s = lines[i].replace(\"\\n\",\"\").replace(\"\\r\",\"\")\n",
    "    signal.append(int(s))"
   ]
  },
  {
   "cell_type": "code",
   "execution_count": 8,
   "id": "8935ac87",
   "metadata": {},
   "outputs": [
    {
     "name": "stdout",
     "output_type": "stream",
     "text": [
      "56.0\n"
     ]
    }
   ],
   "source": [
    "signalNp = np.asarray(signal)\n",
    "print(len(signalNp)/8000)\n",
    "\n",
    "wav.write(name+\".wav\", 8000, signalNp.astype(np.int16))\n",
    "f.close()"
   ]
  },
  {
   "cell_type": "markdown",
   "id": "5e9cdb13",
   "metadata": {},
   "source": [
    "##### print des données PCM et du .wav pour vérifier que les données ne sont pas affectées par la conversion"
   ]
  },
  {
   "cell_type": "code",
   "execution_count": 12,
   "id": "71dd504f",
   "metadata": {},
   "outputs": [
    {
     "name": "stdout",
     "output_type": "stream",
     "text": [
      "[-5120 -2731    12   686   169 -1243 -2726 -3443 -3722 -2433 -1053 -3750\n",
      " -5110 -1160  1293  1383    98 -1442   181  1236   738  1857  4164  2685\n",
      " -3110 -5287 -1661  1217   635 -1798 -1924   244  1707   292   188  1541\n",
      " -3613 -8333 -5079   397  2074 -1038 -3801 -1976  -731  -199  3262  4559\n",
      "   563 -2793 -1347  3168  4351  2625  1976  1106    48  -526  -981   225\n",
      "  -367 -4817 -5244  -266  3473  2245  -786 -1055  1038   803 -1793 -4482\n",
      " -6721 -7418 -6189 -1133  4302  4186  2262  1511   347 -1788 -2048 -1770\n",
      " -3934 -6524 -4836  2178  8361  8805  8679  7477  2836 -1618 -2153   931\n",
      "  1254 -3399 -5991 -3019]\n",
      "['-5120\\n', '-2731\\n', '12\\n', '686\\n', '169\\n', '-1243\\n', '-2726\\n', '-3443\\n', '-3722\\n', '-2433\\n', '-1053\\n', '-3750\\n', '-5110\\n', '-1160\\n', '1293\\n', '1383\\n', '98\\n', '-1442\\n', '181\\n', '1236\\n', '738\\n', '1857\\n', '4164\\n', '2685\\n', '-3110\\n', '-5287\\n', '-1661\\n', '1217\\n', '635\\n', '-1798\\n', '-1924\\n', '244\\n', '1707\\n', '292\\n', '188\\n', '1541\\n', '-3613\\n', '-8333\\n', '-5079\\n', '397\\n', '2074\\n', '-1038\\n', '-3801\\n', '-1976\\n', '-731\\n', '-199\\n', '3262\\n', '4559\\n', '563\\n', '-2793\\n', '-1347\\n', '3168\\n', '4351\\n', '2625\\n', '1976\\n', '1106\\n', '48\\n', '-526\\n', '-981\\n', '225\\n', '-367\\n', '-4817\\n', '-5244\\n', '-266\\n', '3473\\n', '2245\\n', '-786\\n', '-1055\\n', '1038\\n', '803\\n', '-1793\\n', '-4482\\n', '-6721\\n', '-7418\\n', '-6189\\n', '-1133\\n', '4302\\n', '4186\\n', '2262\\n', '1511\\n', '347\\n', '-1788\\n', '-2048\\n', '-1770\\n', '-3934\\n', '-6524\\n', '-4836\\n', '2178\\n', '8361\\n', '8805\\n', '8679\\n', '7477\\n', '2836\\n', '-1618\\n', '-2153\\n', '931\\n', '1254\\n', '-3399\\n', '-5991\\n', '-3019\\n']\n"
     ]
    }
   ],
   "source": [
    "sr, signal = wav.read(name+\".wav\")\n",
    "print(signal[0:100])\n",
    "print(lines[0:100])"
   ]
  },
  {
   "cell_type": "markdown",
   "id": "3a8ccc31",
   "metadata": {},
   "source": [
    "#### Augmentation d'un jeu de test et enregistrement (pour avoir des augmentations non variables)"
   ]
  },
  {
   "cell_type": "markdown",
   "id": "2a462cf1",
   "metadata": {},
   "source": [
    "##### Utilisable avec le dossier \"background noises\" et présent dans le notebook ClassificationBinaire (méthode accessible et directement utilisable depuis ce notebook)"
   ]
  },
  {
   "cell_type": "code",
   "execution_count": null,
   "id": "7ef65869",
   "metadata": {},
   "outputs": [],
   "source": [
    "def audio_augmentation (audio, sr = 8000, proba = 0.5):\n",
    "    transform = AA.AddBackgroundNoise(\n",
    "        sounds_path=\"datasetTrainTestToAugment/backgroundNoise\",\n",
    "        min_snr_db=-44.7,\n",
    "        max_snr_db=-40.7,\n",
    "        p=proba\n",
    "        )\n",
    "\n",
    "    augmented_sound = transform(audio, sample_rate=sr)\n",
    "\n",
    "    return augmented_sound"
   ]
  },
  {
   "cell_type": "code",
   "execution_count": null,
   "id": "bb37e7bb",
   "metadata": {},
   "outputs": [],
   "source": [
    "def cut_and_augment_test_audio (audio, probability):\n",
    "    audios = []\n",
    "    \n",
    "    for n in range(int(len(audio)/nbr_values)):\n",
    "        sample = audio[int(n*nbr_values):int((n)*nbr_values+nbr_values)]\n",
    "\n",
    "        #augmentation de l'audio\n",
    "        sample = audio_augmentation(np.asarray(sample).astype(np.int16), proba = probability)\n",
    "        \n",
    "        if(not np.isnan(sample[0])):\n",
    "            audios.append(sample)\n",
    "            \n",
    "    return np.asarray(audios).flatten()"
   ]
  },
  {
   "cell_type": "code",
   "execution_count": null,
   "id": "5ec5271a",
   "metadata": {},
   "outputs": [],
   "source": [
    "#enregistrements de features de jeu de test avec plusieurs degrés d'augmentation (0%, 50% et 100%)\n",
    "#opération à ne faire qu'une fois par jeu de test\n",
    "\n",
    "siren_path_test = \"datasetTrainTestToAugment/sirene_8kHz_Test.rw\"\n",
    "other_path_test = \"datasetTrainTestToAugment/autre_8kHz_Test.rw\"\n",
    "\n",
    "signalTEMP = get_signal(siren_path_test)\n",
    "\n",
    "#cut_and_augment_test_audio : méthode à instancier plus bas\n",
    "\n",
    "#augmentations et sauvegarde du jeu de test augmenté\n",
    "wav.write(\"datasetTrainTestToAugment/sirene_8kHz_Test_Augmented_p1.wav\", 8000, cut_and_augment_test_audio(signalTEMP,1).astype(np.int16))\n",
    "wav.write(\"datasetTrainTestToAugment/sirene_8kHz_Test_Augmented_p05.wav\", 8000, cut_and_augment_test_audio(signalTEMP,0.5).astype(np.int16))\n",
    "\n",
    "signalTEMP = get_signal(other_path_test)\n",
    "\n",
    "#augmentations et sauvegarde du jeu de test augmenté\n",
    "wav.write(\"datasetTrainTestToAugment/autre_8kHz_Test_Augmented_p1.wav\", 8000, cut_and_augment_test_audio(signalTEMP,1).astype(np.int16))\n",
    "wav.write(\"datasetTrainTestToAugment/autre_8kHz_Test_Augmented_p05.wav\", 8000, cut_and_augment_test_audio(signalTEMP,0.5).astype(np.int16))"
   ]
  }
 ],
 "metadata": {
  "kernelspec": {
   "display_name": "Python 3 (ipykernel)",
   "language": "python",
   "name": "python3"
  },
  "language_info": {
   "codemirror_mode": {
    "name": "ipython",
    "version": 3
   },
   "file_extension": ".py",
   "mimetype": "text/x-python",
   "name": "python",
   "nbconvert_exporter": "python",
   "pygments_lexer": "ipython3",
   "version": "3.9.13"
  }
 },
 "nbformat": 4,
 "nbformat_minor": 5
}

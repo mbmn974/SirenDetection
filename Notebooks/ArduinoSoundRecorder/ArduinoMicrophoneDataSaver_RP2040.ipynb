{
 "cells": [
  {
   "cell_type": "code",
   "execution_count": 2,
   "id": "2a18a05e",
   "metadata": {},
   "outputs": [
    {
     "name": "stderr",
     "output_type": "stream",
     "text": [
      "C:\\ProgramData\\Anaconda3\\lib\\site-packages\\paramiko\\transport.py:219: CryptographyDeprecationWarning: Blowfish has been deprecated\n",
      "  \"class\": algorithms.Blowfish,\n"
     ]
    }
   ],
   "source": [
    "import serial #!pip install pyserial\n",
    "import numpy as np\n",
    "import scipy.io.wavfile as wav"
   ]
  },
  {
   "cell_type": "markdown",
   "id": "d609b8f7",
   "metadata": {},
   "source": [
    "##### Serial port recording"
   ]
  },
  {
   "cell_type": "code",
   "execution_count": 20,
   "id": "0f79d53c",
   "metadata": {
    "scrolled": true
   },
   "outputs": [
    {
     "name": "stdout",
     "output_type": "stream",
     "text": [
      "Trying to connect to COM4 at 115200 BAUD.\n",
      "COM4\n",
      "Connected!\n"
     ]
    }
   ],
   "source": [
    "# Reading from the RP2040's serial port to retrieve audio data\n",
    "\n",
    "serialPort = 'COM4' # à adapter au port affecté à la carte\n",
    "serialBaud = 115200\n",
    "bytesBuffer = []\n",
    "\n",
    "# Connect to serial port\n",
    "print('Trying to connect to ' + str(serialPort) +\n",
    "      ' at ' + str(serialBaud) + ' BAUD.')\n",
    "\n",
    "try:\n",
    "    s = serial.Serial()\n",
    "    s.baudrate = serialBaud\n",
    "    s.port = serialPort\n",
    "    s.open()\n",
    "    \n",
    "    print(s.name)\n",
    "    print('Connected!')\n",
    "except:\n",
    "    print(\"Failed to connect with \" + str(serialPort) +\n",
    "          ' at ' + str(serialBaud) + ' BAUD.')\n",
    "\n",
    "s.reset_input_buffer()  # Flush input buffer\n",
    "while(True):\n",
    "    b = s.read()\n",
    "    if(len(b)==0):\n",
    "        break;\n",
    "#     print(b)\n",
    "    bytesBuffer.append(b)"
   ]
  },
  {
   "cell_type": "code",
   "execution_count": 21,
   "id": "78d8d319",
   "metadata": {},
   "outputs": [],
   "source": [
    "# Closing port connexion and saving data\n",
    "# .rw : \"custom\" format meaning that it is raw (PCM) data from the Arduino\n",
    "s.close()\n",
    "with open(\"rp2040_8kHz/autre/autre_8kHz_40gain_rp_part2.rw\", \"wb\") as binary_file:\n",
    "    for data in bytesBuffer :\n",
    "        binary_file.write(data)"
   ]
  },
  {
   "cell_type": "markdown",
   "id": "dc89542e",
   "metadata": {},
   "source": [
    "##### Conversion to .wav"
   ]
  },
  {
   "cell_type": "code",
   "execution_count": 32,
   "id": "ea93cbc5",
   "metadata": {
    "scrolled": false
   },
   "outputs": [
    {
     "name": "stdout",
     "output_type": "stream",
     "text": [
      "4760000\n"
     ]
    }
   ],
   "source": [
    "# Signal from the Nano RP2040 Connect being in 16 bit PCM format, conversion directly possible in .wav\n",
    "name = \"rp2040_8kHz/autre/autre_8kHz_40gain_rp_part2\"\n",
    "f = open(name+\".rw\",\"r\")\n",
    "lines = f.readlines()\n",
    "# print(len(lines))\n",
    "signal = []\n",
    "for i in range (len(lines)) :\n",
    "    s = lines[i].replace(\"\\n\",\"\").replace(\"\\r\",\"\")\n",
    "    signal.append(int(s))"
   ]
  },
  {
   "cell_type": "code",
   "execution_count": 113,
   "id": "e21c882f",
   "metadata": {},
   "outputs": [
    {
     "name": "stdout",
     "output_type": "stream",
     "text": [
      "568.0\n"
     ]
    }
   ],
   "source": [
    "signalNp = np.asarray(signal)\n",
    "print(len(signalNp)/8000)\n",
    "\n",
    "wav.write(name+\"TEST.wav\", 8000, signalNp.astype(np.int16))\n",
    "f.close()"
   ]
  }
 ],
 "metadata": {
  "kernelspec": {
   "display_name": "Python 3 (ipykernel)",
   "language": "python",
   "name": "python3"
  },
  "language_info": {
   "codemirror_mode": {
    "name": "ipython",
    "version": 3
   },
   "file_extension": ".py",
   "mimetype": "text/x-python",
   "name": "python",
   "nbconvert_exporter": "python",
   "pygments_lexer": "ipython3",
   "version": "3.9.13"
  }
 },
 "nbformat": 4,
 "nbformat_minor": 5
}
